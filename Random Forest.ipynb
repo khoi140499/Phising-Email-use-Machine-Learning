{
 "cells": [
  {
   "cell_type": "code",
   "execution_count": 21,
   "id": "f7dd0903",
   "metadata": {},
   "outputs": [],
   "source": [
    "import  pandas as np\n",
    "from sklearn.ensemble import RandomForestClassifier\n",
    "from sklearn.model_selection import train_test_split\n",
    "from sklearn import metrics\n",
    "from sklearn.preprocessing import Normalizer\n",
    "import pandas as pd\n",
    "from sklearn.preprocessing import LabelEncoder"
   ]
  },
  {
   "cell_type": "code",
   "execution_count": 22,
   "id": "79fbebaf",
   "metadata": {},
   "outputs": [],
   "source": [
    "spear = pd.read_csv(\"data-spear.csv\")\n",
    "enron = pd.read_csv(\"data-enron.csv\")"
   ]
  },
  {
   "cell_type": "code",
   "execution_count": 23,
   "id": "68473fd7",
   "metadata": {},
   "outputs": [],
   "source": [
    "data = pd.concat([spear,enron],ignore_index=True)"
   ]
  },
  {
   "cell_type": "code",
   "execution_count": 24,
   "id": "c28dc0d6",
   "metadata": {},
   "outputs": [],
   "source": [
    "row1 = data.iloc[:, [1, 2, 3, 4, 5, 6, 7, 8, 9, 10, 11, 12, 13, 14, 16]]\n",
    "row2 = data.iloc[:, 15]"
   ]
  },
  {
   "cell_type": "code",
   "execution_count": 25,
   "id": "aa1c0a17",
   "metadata": {},
   "outputs": [],
   "source": [
    "data=pd.concat([row2, row1], axis=1)"
   ]
  },
  {
   "cell_type": "code",
   "execution_count": 26,
   "id": "80996e59",
   "metadata": {},
   "outputs": [],
   "source": [
    "le = LabelEncoder()\n",
    "le.fit(data.iloc[:,6])\n",
    "data.iloc[:,6] = le.transform(data.iloc[:,6])"
   ]
  },
  {
   "cell_type": "code",
   "execution_count": 27,
   "id": "8768bcb3",
   "metadata": {},
   "outputs": [],
   "source": [
    "data=data.astype(int)"
   ]
  },
  {
   "cell_type": "code",
   "execution_count": 28,
   "id": "c8118de0",
   "metadata": {},
   "outputs": [],
   "source": [
    "X = data.iloc[:, 1:]\n",
    "Y = data.iloc[:, 0]"
   ]
  },
  {
   "cell_type": "code",
   "execution_count": 29,
   "id": "57ebd9c6",
   "metadata": {},
   "outputs": [],
   "source": [
    "X_train, X_test, Y_train, Y_test = train_test_split(X,Y, test_size=1/5, random_state=0)"
   ]
  },
  {
   "cell_type": "markdown",
   "id": "03f07b37",
   "metadata": {},
   "source": [
    "# n=100"
   ]
  },
  {
   "cell_type": "code",
   "execution_count": 30,
   "id": "7a75ba3c",
   "metadata": {},
   "outputs": [],
   "source": [
    "gnb =RandomForestClassifier(n_estimators=100)\n",
    "gnb=gnb.fit(X_train, Y_train)\n",
    "y_pred = gnb.predict(X_test)"
   ]
  },
  {
   "cell_type": "code",
   "execution_count": 19,
   "id": "cc14fec7",
   "metadata": {},
   "outputs": [
    {
     "name": "stdout",
     "output_type": "stream",
     "text": [
      "Accuracy of Random Forest model is: 99.1214237440865\n",
      "Precision Score of Random Forest Model is:  98.86899151743637\n",
      "Recall Score :  97.4907063197026\n",
      "F1 Score :  98.17501169864296\n"
     ]
    }
   ],
   "source": [
    "print(\"Accuracy of Random Forest model is:\",\n",
    "metrics.accuracy_score(Y_test, y_pred.round())*100)\n",
    "print(\"Precision Score of Random Forest Model is: \",\n",
    "metrics.precision_score(Y_test, y_pred.round())*100)\n",
    "print(\"Recall Score : \",\n",
    "metrics.recall_score(Y_test, y_pred.round())*100)\n",
    "print(\"F1 Score : \",\n",
    "metrics.f1_score(Y_test, y_pred.round())*100)\n"
   ]
  },
  {
   "cell_type": "code",
   "execution_count": 31,
   "id": "d3a38ea4",
   "metadata": {},
   "outputs": [
    {
     "name": "stdout",
     "output_type": "stream",
     "text": [
      "              precision    recall  f1-score   support\n",
      "\n",
      "           0       0.99      1.00      0.99      3363\n",
      "           1       0.99      0.98      0.98      1076\n",
      "\n",
      "    accuracy                           0.99      4439\n",
      "   macro avg       0.99      0.99      0.99      4439\n",
      "weighted avg       0.99      0.99      0.99      4439\n",
      "\n"
     ]
    },
    {
     "data": {
      "text/plain": [
       "<sklearn.metrics._plot.confusion_matrix.ConfusionMatrixDisplay at 0x21280f82548>"
      ]
     },
     "execution_count": 31,
     "metadata": {},
     "output_type": "execute_result"
    },
    {
     "data": {
      "image/png": "[encoded data removed]",
      "text/plain": [
       "<Figure size 432x288 with 2 Axes>"
      ]
     },
     "metadata": {
      "needs_background": "light"
     },
     "output_type": "display_data"
    }
   ],
   "source": [
    "print(metrics.classification_report(Y_test, y_pred))\n",
    "metrics.plot_confusion_matrix(gnb, X_test, Y_test)"
   ]
  },
  {
   "cell_type": "markdown",
   "id": "c32d4317",
   "metadata": {},
   "source": [
    "# n=20"
   ]
  },
  {
   "cell_type": "code",
   "execution_count": 35,
   "id": "e9cf8d0e",
   "metadata": {},
   "outputs": [
    {
     "name": "stdout",
     "output_type": "stream",
     "text": [
      "Accuracy of Random Forest model is: 99.23406172561387\n",
      "Precision Score of Random Forest Model is:  98.96616541353383\n",
      "Recall Score :  97.86245353159852\n",
      "F1 Score :  98.41121495327103\n"
     ]
    }
   ],
   "source": [
    "gnb =RandomForestClassifier(n_estimators=20)\n",
    "gnb=gnb.fit(X_train, Y_train)\n",
    "y_pred = gnb.predict(X_test)\n",
    "\n",
    "print(\"Accuracy of Random Forest model is:\",\n",
    "metrics.accuracy_score(Y_test, y_pred.round())*100)\n",
    "print(\"Precision Score of Random Forest Model is: \",\n",
    "metrics.precision_score(Y_test, y_pred.round())*100)\n",
    "print(\"Recall Score : \",\n",
    "metrics.recall_score(Y_test, y_pred.round())*100)\n",
    "print(\"F1 Score : \",\n",
    "metrics.f1_score(Y_test, y_pred.round())*100)"
   ]
  },
  {
   "cell_type": "code",
   "execution_count": 36,
   "id": "562463de",
   "metadata": {},
   "outputs": [
    {
     "name": "stdout",
     "output_type": "stream",
     "text": [
      "              precision    recall  f1-score   support\n",
      "\n",
      "           0       0.99      1.00      0.99      3363\n",
      "           1       0.99      0.98      0.98      1076\n",
      "\n",
      "    accuracy                           0.99      4439\n",
      "   macro avg       0.99      0.99      0.99      4439\n",
      "weighted avg       0.99      0.99      0.99      4439\n",
      "\n"
     ]
    },
    {
     "data": {
      "text/plain": [
       "<sklearn.metrics._plot.confusion_matrix.ConfusionMatrixDisplay at 0x21285019108>"
      ]
     },
     "execution_count": 36,
     "metadata": {},
     "output_type": "execute_result"
    },
    {
     "data": {
      "image/png": "[encoded data removed]",
      "text/plain": [
       "<Figure size 432x288 with 2 Axes>"
      ]
     },
     "metadata": {
      "needs_background": "light"
     },
     "output_type": "display_data"
    }
   ],
   "source": [
    "print(metrics.classification_report(Y_test, y_pred))\n",
    "metrics.plot_confusion_matrix(gnb, X_test, Y_test)"
   ]
  },
  {
   "cell_type": "markdown",
   "id": "8177a003",
   "metadata": {},
   "source": [
    "# n=30"
   ]
  },
  {
   "cell_type": "code",
   "execution_count": 37,
   "id": "f5bd27fe",
   "metadata": {},
   "outputs": [
    {
     "name": "stdout",
     "output_type": "stream",
     "text": [
      "Accuracy of Random Forest model is: 99.14395134039198\n",
      "Precision Score of Random Forest Model is:  98.87005649717514\n",
      "Recall Score :  97.58364312267658\n",
      "F1 Score :  98.22263797942001\n"
     ]
    }
   ],
   "source": [
    "gnb =RandomForestClassifier(n_estimators=30)\n",
    "gnb=gnb.fit(X_train, Y_train)\n",
    "y_pred = gnb.predict(X_test)\n",
    "\n",
    "print(\"Accuracy of Random Forest model is:\",\n",
    "metrics.accuracy_score(Y_test, y_pred.round())*100)\n",
    "print(\"Precision Score of Random Forest Model is: \",\n",
    "metrics.precision_score(Y_test, y_pred.round())*100)\n",
    "print(\"Recall Score : \",\n",
    "metrics.recall_score(Y_test, y_pred.round())*100)\n",
    "print(\"F1 Score : \",\n",
    "metrics.f1_score(Y_test, y_pred.round())*100)"
   ]
  },
  {
   "cell_type": "code",
   "execution_count": 38,
   "id": "90cb335d",
   "metadata": {},
   "outputs": [
    {
     "name": "stdout",
     "output_type": "stream",
     "text": [
      "              precision    recall  f1-score   support\n",
      "\n",
      "           0       0.99      1.00      0.99      3363\n",
      "           1       0.99      0.98      0.98      1076\n",
      "\n",
      "    accuracy                           0.99      4439\n",
      "   macro avg       0.99      0.99      0.99      4439\n",
      "weighted avg       0.99      0.99      0.99      4439\n",
      "\n"
     ]
    },
    {
     "data": {
      "text/plain": [
       "<sklearn.metrics._plot.confusion_matrix.ConfusionMatrixDisplay at 0x21282eca0c8>"
      ]
     },
     "execution_count": 38,
     "metadata": {},
     "output_type": "execute_result"
    },
    {
     "data": {
      "image/png": "[encoded data removed]",
      "text/plain": [
       "<Figure size 432x288 with 2 Axes>"
      ]
     },
     "metadata": {
      "needs_background": "light"
     },
     "output_type": "display_data"
    }
   ],
   "source": [
    "print(metrics.classification_report(Y_test, y_pred))\n",
    "metrics.plot_confusion_matrix(gnb, X_test, Y_test)"
   ]
  },
  {
   "cell_type": "markdown",
   "id": "bdff6c0c",
   "metadata": {},
   "source": [
    "# n=50"
   ]
  },
  {
   "cell_type": "code",
   "execution_count": 43,
   "id": "498825ca",
   "metadata": {},
   "outputs": [
    {
     "name": "stdout",
     "output_type": "stream",
     "text": [
      "Accuracy of Random Forest model is: 99.1214237440865\n",
      "Precision Score of Random Forest Model is:  98.96128423040605\n",
      "Recall Score :  97.39776951672863\n",
      "F1 Score :  98.17330210772833\n"
     ]
    }
   ],
   "source": [
    "gnb =RandomForestClassifier(n_estimators=50)\n",
    "gnb=gnb.fit(X_train, Y_train)\n",
    "y_pred = gnb.predict(X_test)\n",
    "\n",
    "print(\"Accuracy of Random Forest model is:\",\n",
    "metrics.accuracy_score(Y_test, y_pred.round())*100)\n",
    "print(\"Precision Score of Random Forest Model is: \",\n",
    "metrics.precision_score(Y_test, y_pred.round())*100)\n",
    "print(\"Recall Score : \",\n",
    "metrics.recall_score(Y_test, y_pred.round())*100)\n",
    "print(\"F1 Score : \",\n",
    "metrics.f1_score(Y_test, y_pred.round())*100)"
   ]
  },
  {
   "cell_type": "code",
   "execution_count": 44,
   "id": "76accfb1",
   "metadata": {},
   "outputs": [
    {
     "name": "stdout",
     "output_type": "stream",
     "text": [
      "              precision    recall  f1-score   support\n",
      "\n",
      "           0       0.99      1.00      0.99      3363\n",
      "           1       0.99      0.97      0.98      1076\n",
      "\n",
      "    accuracy                           0.99      4439\n",
      "   macro avg       0.99      0.99      0.99      4439\n",
      "weighted avg       0.99      0.99      0.99      4439\n",
      "\n"
     ]
    },
    {
     "data": {
      "text/plain": [
       "<sklearn.metrics._plot.confusion_matrix.ConfusionMatrixDisplay at 0x212853da648>"
      ]
     },
     "execution_count": 44,
     "metadata": {},
     "output_type": "execute_result"
    },
    {
     "data": {
      "image/png": "[encoded data removed]",
      "text/plain": [
       "<Figure size 432x288 with 2 Axes>"
      ]
     },
     "metadata": {
      "needs_background": "light"
     },
     "output_type": "display_data"
    }
   ],
   "source": [
    "print(metrics.classification_report(Y_test, y_pred))\n",
    "metrics.plot_confusion_matrix(gnb, X_test, Y_test)"
   ]
  },
  {
   "cell_type": "markdown",
   "id": "f3f33401",
   "metadata": {},
   "source": [
    "# n=70"
   ]
  },
  {
   "cell_type": "code",
   "execution_count": 45,
   "id": "a925a951",
   "metadata": {},
   "outputs": [
    {
     "name": "stdout",
     "output_type": "stream",
     "text": [
      "Accuracy of Random Forest model is: 99.16647893669746\n",
      "Precision Score of Random Forest Model is:  98.96324222431669\n",
      "Recall Score :  97.58364312267658\n",
      "F1 Score :  98.2686008423023\n"
     ]
    }
   ],
   "source": [
    "gnb =RandomForestClassifier(n_estimators=70)\n",
    "gnb=gnb.fit(X_train, Y_train)\n",
    "y_pred = gnb.predict(X_test)\n",
    "\n",
    "print(\"Accuracy of Random Forest model is:\",\n",
    "metrics.accuracy_score(Y_test, y_pred.round())*100)\n",
    "print(\"Precision Score of Random Forest Model is: \",\n",
    "metrics.precision_score(Y_test, y_pred.round())*100)\n",
    "print(\"Recall Score : \",\n",
    "metrics.recall_score(Y_test, y_pred.round())*100)\n",
    "print(\"F1 Score : \",\n",
    "metrics.f1_score(Y_test, y_pred.round())*100)"
   ]
  },
  {
   "cell_type": "code",
   "execution_count": 46,
   "id": "b8842733",
   "metadata": {},
   "outputs": [
    {
     "name": "stdout",
     "output_type": "stream",
     "text": [
      "              precision    recall  f1-score   support\n",
      "\n",
      "           0       0.99      1.00      0.99      3363\n",
      "           1       0.99      0.98      0.98      1076\n",
      "\n",
      "    accuracy                           0.99      4439\n",
      "   macro avg       0.99      0.99      0.99      4439\n",
      "weighted avg       0.99      0.99      0.99      4439\n",
      "\n"
     ]
    },
    {
     "data": {
      "text/plain": [
       "<sklearn.metrics._plot.confusion_matrix.ConfusionMatrixDisplay at 0x212851ba788>"
      ]
     },
     "execution_count": 46,
     "metadata": {},
     "output_type": "execute_result"
    },
    {
     "data": {
      "image/png": "[encoded data removed]",
      "text/plain": [
       "<Figure size 432x288 with 2 Axes>"
      ]
     },
     "metadata": {
      "needs_background": "light"
     },
     "output_type": "display_data"
    }
   ],
   "source": [
    "print(metrics.classification_report(Y_test, y_pred))\n",
    "metrics.plot_confusion_matrix(gnb, X_test, Y_test)"
   ]
  },
  {
   "cell_type": "markdown",
   "id": "77d69357",
   "metadata": {},
   "source": [
    "# n=1000"
   ]
  },
  {
   "cell_type": "code",
   "execution_count": 48,
   "id": "c2b5499c",
   "metadata": {},
   "outputs": [
    {
     "name": "stdout",
     "output_type": "stream",
     "text": [
      "Accuracy of Random Forest model is: 99.14395134039198\n",
      "Precision Score of Random Forest Model is:  98.9622641509434\n",
      "Recall Score :  97.4907063197026\n",
      "F1 Score :  98.22097378277154\n"
     ]
    }
   ],
   "source": [
    "gnb =RandomForestClassifier(n_estimators=1000)\n",
    "gnb=gnb.fit(X_train, Y_train)\n",
    "y_pred = gnb.predict(X_test)\n",
    "\n",
    "print(\"Accuracy of Random Forest model is:\",\n",
    "metrics.accuracy_score(Y_test, y_pred.round())*100)\n",
    "print(\"Precision Score of Random Forest Model is: \",\n",
    "metrics.precision_score(Y_test, y_pred.round())*100)\n",
    "print(\"Recall Score : \",\n",
    "metrics.recall_score(Y_test, y_pred.round())*100)\n",
    "print(\"F1 Score : \",\n",
    "metrics.f1_score(Y_test, y_pred.round())*100)"
   ]
  },
  {
   "cell_type": "code",
   "execution_count": 49,
   "id": "5b05e50d",
   "metadata": {},
   "outputs": [
    {
     "name": "stdout",
     "output_type": "stream",
     "text": [
      "              precision    recall  f1-score   support\n",
      "\n",
      "           0       0.99      1.00      0.99      3363\n",
      "           1       0.99      0.97      0.98      1076\n",
      "\n",
      "    accuracy                           0.99      4439\n",
      "   macro avg       0.99      0.99      0.99      4439\n",
      "weighted avg       0.99      0.99      0.99      4439\n",
      "\n"
     ]
    },
    {
     "data": {
      "text/plain": [
       "<sklearn.metrics._plot.confusion_matrix.ConfusionMatrixDisplay at 0x212853f2a48>"
      ]
     },
     "execution_count": 49,
     "metadata": {},
     "output_type": "execute_result"
    },
    {
     "data": {
      "image/png": "[encoded data removed]",
      "text/plain": [
       "<Figure size 432x288 with 2 Axes>"
      ]
     },
     "metadata": {
      "needs_background": "light"
     },
     "output_type": "display_data"
    }
   ],
   "source": [
    "print(metrics.classification_report(Y_test, y_pred))\n",
    "metrics.plot_confusion_matrix(gnb, X_test, Y_test)"
   ]
  },
  {
   "cell_type": "markdown",
   "id": "ece038f8",
   "metadata": {},
   "source": [
    "# n=10000"
   ]
  },
  {
   "cell_type": "code",
   "execution_count": 50,
   "id": "6dee8d5c",
   "metadata": {},
   "outputs": [
    {
     "name": "stdout",
     "output_type": "stream",
     "text": [
      "Accuracy of Random Forest model is: 99.16647893669746\n",
      "Precision Score of Random Forest Model is:  98.96324222431669\n",
      "Recall Score :  97.58364312267658\n",
      "F1 Score :  98.2686008423023\n"
     ]
    }
   ],
   "source": [
    "gnb =RandomForestClassifier(n_estimators=10000)\n",
    "gnb=gnb.fit(X_train, Y_train)\n",
    "y_pred = gnb.predict(X_test)\n",
    "\n",
    "print(\"Accuracy of Random Forest model is:\",\n",
    "metrics.accuracy_score(Y_test, y_pred.round())*100)\n",
    "print(\"Precision Score of Random Forest Model is: \",\n",
    "metrics.precision_score(Y_test, y_pred.round())*100)\n",
    "print(\"Recall Score : \",\n",
    "metrics.recall_score(Y_test, y_pred.round())*100)\n",
    "print(\"F1 Score : \",\n",
    "metrics.f1_score(Y_test, y_pred.round())*100)"
   ]
  },
  {
   "cell_type": "code",
   "execution_count": 51,
   "id": "7c56fe42",
   "metadata": {},
   "outputs": [
    {
     "name": "stdout",
     "output_type": "stream",
     "text": [
      "              precision    recall  f1-score   support\n",
      "\n",
      "           0       0.99      1.00      0.99      3363\n",
      "           1       0.99      0.98      0.98      1076\n",
      "\n",
      "    accuracy                           0.99      4439\n",
      "   macro avg       0.99      0.99      0.99      4439\n",
      "weighted avg       0.99      0.99      0.99      4439\n",
      "\n"
     ]
    },
    {
     "data": {
      "text/plain": [
       "<sklearn.metrics._plot.confusion_matrix.ConfusionMatrixDisplay at 0x21287a94f88>"
      ]
     },
     "execution_count": 51,
     "metadata": {},
     "output_type": "execute_result"
    },
    {
     "data": {
      "image/png": "[encoded data removed]",
      "text/plain": [
       "<Figure size 432x288 with 2 Axes>"
      ]
     },
     "metadata": {
      "needs_background": "light"
     },
     "output_type": "display_data"
    }
   ],
   "source": [
    "print(metrics.classification_report(Y_test, y_pred))\n",
    "metrics.plot_confusion_matrix(gnb, X_test, Y_test)"
   ]
  },
  {
   "cell_type": "code",
   "execution_count": null,
   "id": "0489848d",
   "metadata": {},
   "outputs": [],
   "source": []
  }
 ],
 "metadata": {
  "kernelspec": {
   "display_name": "Python 3",
   "language": "python",
   "name": "python3"
  },
  "language_info": {
   "codemirror_mode": {
    "name": "ipython",
    "version": 3
   },
   "file_extension": ".py",
   "mimetype": "text/x-python",
   "name": "python",
   "nbconvert_exporter": "python",
   "pygments_lexer": "ipython3",
   "version": "3.7.9"
  }
 },
 "nbformat": 4,
 "nbformat_minor": 5
}
