{
 "cells": [
  {
   "cell_type": "code",
   "execution_count": 1,
   "metadata": {
    "id": "1WgsEeErImRE"
   },
   "outputs": [],
   "source": [
    "import pandas as pd\n",
    "from sklearn.preprocessing import LabelEncoder\n",
    "from sklearn.model_selection import train_test_split, cross_val_predict, learning_curve\n",
    "from sklearn.metrics import r2_score, accuracy_score\n",
    "import matplotlib.pyplot as plt\n",
    "from keras.metrics import Recall\n",
    "from keras.metrics import Precision"
   ]
  },
  {
   "cell_type": "code",
   "execution_count": 2,
   "metadata": {
    "id": "rC8OVjMhJMKq"
   },
   "outputs": [],
   "source": [
    "spear = pd.read_csv(\"/content/drive/MyDrive/Colab Notebooks/data-spear.csv\")\n",
    "enron = pd.read_csv(\"/content/drive/MyDrive/Colab Notebooks/data-enron.csv\")"
   ]
  },
  {
   "cell_type": "code",
   "execution_count": 3,
   "metadata": {
    "id": "eCsteWefJOab"
   },
   "outputs": [],
   "source": [
    "data = pd.concat([spear,enron],ignore_index=True)"
   ]
  },
  {
   "cell_type": "code",
   "execution_count": 4,
   "metadata": {
    "id": "lqEKW88iJaEZ"
   },
   "outputs": [],
   "source": [
    "row1 = data.iloc[:, [1, 2, 3, 4, 5, 6, 7, 8, 9, 10, 11, 12, 13, 14, 16]]\n",
    "row2 = data.iloc[:, 15]"
   ]
  },
  {
   "cell_type": "code",
   "execution_count": 5,
   "metadata": {
    "id": "qOjQk7o3JboF"
   },
   "outputs": [],
   "source": [
    "data=pd.concat([row2, row1], axis=1)"
   ]
  },
  {
   "cell_type": "code",
   "execution_count": 6,
   "metadata": {
    "id": "JPQDFfkgJdtw"
   },
   "outputs": [],
   "source": [
    "le = LabelEncoder()\n",
    "le.fit(data.iloc[:,6])\n",
    "data.iloc[:,6] = le.transform(data.iloc[:,6])"
   ]
  },
  {
   "cell_type": "code",
   "execution_count": 7,
   "metadata": {
    "id": "Srl_vrE_JfhQ"
   },
   "outputs": [],
   "source": [
    "data=data.astype(int)"
   ]
  },
  {
   "cell_type": "code",
   "execution_count": 8,
   "metadata": {
    "id": "oN3tARp5Jg9g"
   },
   "outputs": [],
   "source": [
    "X = data.iloc[:, 1:]\n",
    "Y = data.iloc[:, 0]"
   ]
  },
  {
   "cell_type": "code",
   "execution_count": 9,
   "metadata": {
    "id": "G3d99mXKJieX"
   },
   "outputs": [],
   "source": [
    "X_train, X_test, Y_train, Y_test = train_test_split(X,Y, test_size=1/5, random_state=0)"
   ]
  },
  {
   "cell_type": "code",
   "execution_count": 10,
   "metadata": {
    "id": "u2LmfdmwJj1-"
   },
   "outputs": [],
   "source": [
    "from sklearn.preprocessing import StandardScaler\n",
    "sc = StandardScaler()\n",
    "X_train = sc.fit_transform(X_train)\n",
    "X_test = sc.fit_transform(X_test)"
   ]
  },
  {
   "cell_type": "code",
   "execution_count": 11,
   "metadata": {
    "id": "8BGmFDd-JnSX"
   },
   "outputs": [],
   "source": [
    "import keras\n",
    "from keras.models import Sequential\n",
    "from keras.layers import Dense"
   ]
  },
  {
   "cell_type": "code",
   "execution_count": 13,
   "metadata": {
    "id": "SQF6Q4dX-wEN"
   },
   "outputs": [],
   "source": [
    "import keras.backend as K\n",
    "def f1_score(y_true, y_pred, threshold_shift=0):\n",
    "    beta = 2\n",
    "\n",
    "    y_pred = K.clip(y_pred, 0, 1)\n",
    "\n",
    "    y_pred_bin = K.round(y_pred + threshold_shift)\n",
    "\n",
    "    tp = K.sum(K.round(y_true * y_pred_bin), axis=1) + K.epsilon()\n",
    "    fp = K.sum(K.round(K.clip(y_pred_bin - y_true, 0, 1)), axis=1)\n",
    "    fn = K.sum(K.round(K.clip(y_true - y_pred, 0, 1)), axis=1)\n",
    "\n",
    "    precision = tp / (tp + fp)\n",
    "    recall = tp / (tp + fn)\n",
    "\n",
    "    beta_squared = beta ** 2\n",
    "    return K.mean((beta_squared + 1) * (precision * recall) / (beta_squared * precision + recall + K.epsilon()))"
   ]
  },
  {
   "cell_type": "markdown",
   "metadata": {
    "id": "T5rbbyMPQ4V7"
   },
   "source": [
    "##1 hidden layer, activation ='relu'\n"
   ]
  },
  {
   "cell_type": "code",
   "execution_count": 14,
   "metadata": {
    "id": "mDvR11lsACB8"
   },
   "outputs": [],
   "source": [
    "model = Sequential()\n",
    "\n",
    "model.add(Dense(32, activation = 'relu', input_dim = 15))\n",
    "#model.add(Dense(6, activation = 'relu'))\n",
    "model.add(Dense(1, activation = 'sigmoid'))"
   ]
  },
  {
   "cell_type": "code",
   "execution_count": 15,
   "metadata": {
    "colab": {
     "base_uri": "https://localhost:8080/"
    },
    "id": "ugMm6lrHB7vS",
    "outputId": "7fe572f5-747c-4d88-c9c5-5ca560d3e326"
   },
   "outputs": [
    {
     "name": "stdout",
     "output_type": "stream",
     "text": [
      "Model: \"sequential\"\n",
      "_________________________________________________________________\n",
      "Layer (type)                 Output Shape              Param #   \n",
      "=================================================================\n",
      "dense (Dense)                (None, 32)                512       \n",
      "_________________________________________________________________\n",
      "dense_1 (Dense)              (None, 1)                 33        \n",
      "=================================================================\n",
      "Total params: 545\n",
      "Trainable params: 545\n",
      "Non-trainable params: 0\n",
      "_________________________________________________________________\n"
     ]
    }
   ],
   "source": [
    "model.summary()"
   ]
  },
  {
   "cell_type": "code",
   "execution_count": 16,
   "metadata": {
    "id": "T6SXr5LOKCmG"
   },
   "outputs": [],
   "source": [
    "model.compile(optimizer='adam', loss = 'binary_crossentropy', metrics = ['accuracy',f1_score, Precision(name='precision'), Recall(name='recall')])"
   ]
  },
  {
   "cell_type": "code",
   "execution_count": 17,
   "metadata": {
    "colab": {
     "base_uri": "https://localhost:8080/"
    },
    "id": "WikUsn0SKmt2",
    "outputId": "43369da7-2050-4b5b-e6c8-152cb36ce4ea"
   },
   "outputs": [
    {
     "name": "stdout",
     "output_type": "stream",
     "text": [
      "Epoch 1/20\n",
      "1776/1776 [==============================] - 4s 1ms/step - loss: 0.1985 - accuracy: 0.9528 - f1_score: 0.9528 - precision: 0.9033 - recall: 0.8923\n",
      "Epoch 2/20\n",
      "1776/1776 [==============================] - 3s 1ms/step - loss: 0.0383 - accuracy: 0.9903 - f1_score: 0.9903 - precision: 0.9890 - recall: 0.9706\n",
      "Epoch 3/20\n",
      "1776/1776 [==============================] - 3s 2ms/step - loss: 0.0362 - accuracy: 0.9903 - f1_score: 0.9903 - precision: 0.9875 - recall: 0.9724\n",
      "Epoch 4/20\n",
      "1776/1776 [==============================] - 3s 1ms/step - loss: 0.0349 - accuracy: 0.9904 - f1_score: 0.9904 - precision: 0.9895 - recall: 0.9711\n",
      "Epoch 5/20\n",
      "1776/1776 [==============================] - 3s 1ms/step - loss: 0.0329 - accuracy: 0.9907 - f1_score: 0.9907 - precision: 0.9884 - recall: 0.9733\n",
      "Epoch 6/20\n",
      "1776/1776 [==============================] - 3s 1ms/step - loss: 0.0311 - accuracy: 0.9907 - f1_score: 0.9907 - precision: 0.9862 - recall: 0.9751\n",
      "Epoch 7/20\n",
      "1776/1776 [==============================] - 3s 1ms/step - loss: 0.0295 - accuracy: 0.9911 - f1_score: 0.9911 - precision: 0.9906 - recall: 0.9728\n",
      "Epoch 8/20\n",
      "1776/1776 [==============================] - 3s 2ms/step - loss: 0.0325 - accuracy: 0.9896 - f1_score: 0.9896 - precision: 0.9878 - recall: 0.9691\n",
      "Epoch 9/20\n",
      "1776/1776 [==============================] - 3s 1ms/step - loss: 0.0322 - accuracy: 0.9905 - f1_score: 0.9905 - precision: 0.9881 - recall: 0.9721\n",
      "Epoch 10/20\n",
      "1776/1776 [==============================] - 3s 1ms/step - loss: 0.0327 - accuracy: 0.9894 - f1_score: 0.9894 - precision: 0.9838 - recall: 0.9702\n",
      "Epoch 11/20\n",
      "1776/1776 [==============================] - 3s 1ms/step - loss: 0.0316 - accuracy: 0.9902 - f1_score: 0.9902 - precision: 0.9862 - recall: 0.9700\n",
      "Epoch 12/20\n",
      "1776/1776 [==============================] - 3s 1ms/step - loss: 0.0247 - accuracy: 0.9925 - f1_score: 0.9925 - precision: 0.9923 - recall: 0.9768\n",
      "Epoch 13/20\n",
      "1776/1776 [==============================] - 3s 1ms/step - loss: 0.0288 - accuracy: 0.9915 - f1_score: 0.9915 - precision: 0.9910 - recall: 0.9748\n",
      "Epoch 14/20\n",
      "1776/1776 [==============================] - 3s 2ms/step - loss: 0.0313 - accuracy: 0.9899 - f1_score: 0.9899 - precision: 0.9831 - recall: 0.9748\n",
      "Epoch 15/20\n",
      "1776/1776 [==============================] - 3s 2ms/step - loss: 0.0315 - accuracy: 0.9908 - f1_score: 0.9908 - precision: 0.9891 - recall: 0.9734\n",
      "Epoch 16/20\n",
      "1776/1776 [==============================] - 3s 1ms/step - loss: 0.0273 - accuracy: 0.9921 - f1_score: 0.9921 - precision: 0.9909 - recall: 0.9769\n",
      "Epoch 17/20\n",
      "1776/1776 [==============================] - 3s 1ms/step - loss: 0.0290 - accuracy: 0.9914 - f1_score: 0.9914 - precision: 0.9884 - recall: 0.9764\n",
      "Epoch 18/20\n",
      "1776/1776 [==============================] - 3s 2ms/step - loss: 0.0296 - accuracy: 0.9908 - f1_score: 0.9908 - precision: 0.9849 - recall: 0.9762\n",
      "Epoch 19/20\n",
      "1776/1776 [==============================] - 3s 1ms/step - loss: 0.0260 - accuracy: 0.9925 - f1_score: 0.9925 - precision: 0.9915 - recall: 0.9777\n",
      "Epoch 20/20\n",
      "1776/1776 [==============================] - 3s 2ms/step - loss: 0.0281 - accuracy: 0.9915 - f1_score: 0.9915 - precision: 0.9871 - recall: 0.9775\n"
     ]
    }
   ],
   "source": [
    "history = model.fit(X_train, Y_train, batch_size = 10, epochs = 20)\n"
   ]
  },
  {
   "cell_type": "code",
   "execution_count": 18,
   "metadata": {
    "colab": {
     "base_uri": "https://localhost:8080/"
    },
    "id": "Hm46OybiRU2D",
    "outputId": "a684f94b-cc24-4a31-be5f-c552a9cc06a2"
   },
   "outputs": [
    {
     "name": "stdout",
     "output_type": "stream",
     "text": [
      "139/139 [==============================] - 1s 1ms/step - loss: 0.0360 - accuracy: 0.9912 - f1_score: 0.9911 - precision: 0.9905 - recall: 0.9730\n"
     ]
    }
   ],
   "source": [
    "model_val = model.evaluate(X_test,Y_test)"
   ]
  },
  {
   "cell_type": "code",
   "execution_count": 19,
   "metadata": {
    "colab": {
     "base_uri": "https://localhost:8080/"
    },
    "id": "n4CugSQTRZYN",
    "outputId": "2c06266d-800c-4ba9-fdff-ca859f226e38"
   },
   "outputs": [
    {
     "data": {
      "text/plain": [
       "[0.03601212427020073,\n",
       " 0.9912142157554626,\n",
       " 0.9910560250282288,\n",
       " 0.9905392527580261,\n",
       " 0.9730483293533325]"
      ]
     },
     "execution_count": 19,
     "metadata": {
      "tags": []
     },
     "output_type": "execute_result"
    }
   ],
   "source": [
    "model_val"
   ]
  },
  {
   "cell_type": "code",
   "execution_count": 22,
   "metadata": {
    "id": "4L7i55a-HCDF"
   },
   "outputs": [],
   "source": [
    "y_pred = model.predict(X_test)\n",
    "y_pred = (y_pred > 0.5).astype(int)"
   ]
  },
  {
   "cell_type": "code",
   "execution_count": 24,
   "metadata": {
    "id": "ifzZYjKGRmgI"
   },
   "outputs": [],
   "source": [
    "import numpy as np\n",
    "Y_pred = np.argmax(y_pred, axis=1)"
   ]
  },
  {
   "cell_type": "code",
   "execution_count": 25,
   "metadata": {
    "id": "eQXv8tr9HEZg"
   },
   "outputs": [],
   "source": [
    "from sklearn.metrics import confusion_matrix\n",
    "cm = confusion_matrix(Y_test, y_pred)"
   ]
  },
  {
   "cell_type": "code",
   "execution_count": 28,
   "metadata": {
    "colab": {
     "base_uri": "https://localhost:8080/",
     "height": 513
    },
    "id": "mzTfUFDMDu3o",
    "outputId": "cf8466d6-1f0a-45b3-9562-4b405ad9812b"
   },
   "outputs": [
    {
     "data": {
      "image/png": "[encoded data removed]",
      "text/plain": [
       "<Figure size 576x576 with 2 Axes>"
      ]
     },
     "metadata": {
      "needs_background": "light",
      "tags": []
     },
     "output_type": "display_data"
    }
   ],
   "source": [
    "import seaborn as sns\n",
    "Y_pred = model.predict(X_test)\n",
    "Y_pred_classes = np.argmax(Y_pred,axis = 1) \n",
    "Y_true = np.argmax(Y_test) \n",
    "f,ax = plt.subplots(figsize=(8, 8))\n",
    "sns.heatmap(cm, annot=True, linewidths=0.01,cmap=\"Greens\",linecolor=\"gray\", fmt= '.1f',ax=ax)\n",
    "plt.xlabel(\"Predicted Label\")\n",
    "plt.ylabel(\"True Label\")\n",
    "plt.title(\"Confusion Matrix\")\n",
    "plt.show()"
   ]
  },
  {
   "cell_type": "code",
   "execution_count": 42,
   "metadata": {
    "colab": {
     "base_uri": "https://localhost:8080/",
     "height": 295
    },
    "id": "NARQ_WFWTA3k",
    "outputId": "c0163cca-4bdd-4c7b-d8c0-42350a2452a3"
   },
   "outputs": [
    {
     "data": {
      "image/png": "[encoded data removed]",
      "text/plain": [
       "<Figure size 432x288 with 1 Axes>"
      ]
     },
     "metadata": {
      "needs_background": "light",
      "tags": []
     },
     "output_type": "display_data"
    }
   ],
   "source": [
    "plt.plot(history.history['loss'])\n",
    "plt.plot(history.history['accuracy'])\n",
    "plt.plot(history.history['f1_score'])\n",
    "plt.plot(history.history['precision'])\n",
    "plt.plot(history.history['recall'])\n",
    "plt.title('Model Train')\n",
    "plt.ylabel('Value')\n",
    "plt.xlabel('epoch')\n",
    "plt.legend(['loss', 'accuracy','f1_score', 'precision', 'recall'], loc='center left')\n",
    "plt.show()"
   ]
  },
  {
   "cell_type": "markdown",
   "metadata": {
    "id": "H7C-PlvRSPdv"
   },
   "source": [
    "## 2 hidden layer "
   ]
  },
  {
   "cell_type": "code",
   "execution_count": 30,
   "metadata": {
    "id": "s8WD_JvRSTmy"
   },
   "outputs": [],
   "source": [
    "model = Sequential()\n",
    "\n",
    "model.add(Dense(32, activation = 'relu', input_dim = 15))\n",
    "model.add(Dense(32, activation = 'relu'))\n",
    "model.add(Dense(1, activation = 'sigmoid'))"
   ]
  },
  {
   "cell_type": "code",
   "execution_count": 31,
   "metadata": {
    "colab": {
     "base_uri": "https://localhost:8080/"
    },
    "id": "o4fatHZ6SYNc",
    "outputId": "45b2f2c4-a47f-4bd0-efbd-0c33749aac1c"
   },
   "outputs": [
    {
     "name": "stdout",
     "output_type": "stream",
     "text": [
      "Model: \"sequential_1\"\n",
      "_________________________________________________________________\n",
      "Layer (type)                 Output Shape              Param #   \n",
      "=================================================================\n",
      "dense_2 (Dense)              (None, 32)                512       \n",
      "_________________________________________________________________\n",
      "dense_3 (Dense)              (None, 32)                1056      \n",
      "_________________________________________________________________\n",
      "dense_4 (Dense)              (None, 1)                 33        \n",
      "=================================================================\n",
      "Total params: 1,601\n",
      "Trainable params: 1,601\n",
      "Non-trainable params: 0\n",
      "_________________________________________________________________\n"
     ]
    }
   ],
   "source": [
    "model.summary()"
   ]
  },
  {
   "cell_type": "code",
   "execution_count": 32,
   "metadata": {
    "id": "K7ccFrPHSaWs"
   },
   "outputs": [],
   "source": [
    "model.compile(optimizer='adam', loss = 'binary_crossentropy', metrics = ['accuracy',f1_score, Precision(name='precision'), Recall(name='recall')])"
   ]
  },
  {
   "cell_type": "code",
   "execution_count": 33,
   "metadata": {
    "colab": {
     "base_uri": "https://localhost:8080/"
    },
    "id": "lZ1NlopXSeKU",
    "outputId": "268a90d1-5fce-4acf-defb-4f20f47969e3"
   },
   "outputs": [
    {
     "name": "stdout",
     "output_type": "stream",
     "text": [
      "Epoch 1/20\n",
      "1776/1776 [==============================] - 4s 2ms/step - loss: 0.1557 - accuracy: 0.9491 - f1_score: 0.9491 - precision: 0.8793 - recall: 0.9621\n",
      "Epoch 2/20\n",
      "1776/1776 [==============================] - 3s 2ms/step - loss: 0.0355 - accuracy: 0.9897 - f1_score: 0.9897 - precision: 0.9862 - recall: 0.9701\n",
      "Epoch 3/20\n",
      "1776/1776 [==============================] - 3s 2ms/step - loss: 0.0355 - accuracy: 0.9894 - f1_score: 0.9894 - precision: 0.9838 - recall: 0.9737\n",
      "Epoch 4/20\n",
      "1776/1776 [==============================] - 3s 2ms/step - loss: 0.0297 - accuracy: 0.9906 - f1_score: 0.9906 - precision: 0.9871 - recall: 0.9739\n",
      "Epoch 5/20\n",
      "1776/1776 [==============================] - 3s 2ms/step - loss: 0.0343 - accuracy: 0.9899 - f1_score: 0.9899 - precision: 0.9853 - recall: 0.9730\n",
      "Epoch 6/20\n",
      "1776/1776 [==============================] - 3s 2ms/step - loss: 0.0314 - accuracy: 0.9908 - f1_score: 0.9908 - precision: 0.9889 - recall: 0.9732\n",
      "Epoch 7/20\n",
      "1776/1776 [==============================] - 3s 2ms/step - loss: 0.0257 - accuracy: 0.9924 - f1_score: 0.9924 - precision: 0.9900 - recall: 0.9785\n",
      "Epoch 8/20\n",
      "1776/1776 [==============================] - 3s 2ms/step - loss: 0.0291 - accuracy: 0.9913 - f1_score: 0.9913 - precision: 0.9858 - recall: 0.9788\n",
      "Epoch 9/20\n",
      "1776/1776 [==============================] - 3s 2ms/step - loss: 0.0292 - accuracy: 0.9909 - f1_score: 0.9909 - precision: 0.9854 - recall: 0.9768\n",
      "Epoch 10/20\n",
      "1776/1776 [==============================] - 3s 2ms/step - loss: 0.0325 - accuracy: 0.9909 - f1_score: 0.9909 - precision: 0.9888 - recall: 0.9726\n",
      "Epoch 11/20\n",
      "1776/1776 [==============================] - 3s 2ms/step - loss: 0.0275 - accuracy: 0.9914 - f1_score: 0.9914 - precision: 0.9884 - recall: 0.9771\n",
      "Epoch 12/20\n",
      "1776/1776 [==============================] - 3s 2ms/step - loss: 0.0239 - accuracy: 0.9931 - f1_score: 0.9931 - precision: 0.9890 - recall: 0.9821\n",
      "Epoch 13/20\n",
      "1776/1776 [==============================] - 3s 2ms/step - loss: 0.0277 - accuracy: 0.9919 - f1_score: 0.9919 - precision: 0.9867 - recall: 0.9805\n",
      "Epoch 14/20\n",
      "1776/1776 [==============================] - 3s 2ms/step - loss: 0.0264 - accuracy: 0.9925 - f1_score: 0.9925 - precision: 0.9901 - recall: 0.9791\n",
      "Epoch 15/20\n",
      "1776/1776 [==============================] - 3s 2ms/step - loss: 0.0232 - accuracy: 0.9925 - f1_score: 0.9925 - precision: 0.9884 - recall: 0.9799\n",
      "Epoch 16/20\n",
      "1776/1776 [==============================] - 3s 2ms/step - loss: 0.0294 - accuracy: 0.9912 - f1_score: 0.9912 - precision: 0.9871 - recall: 0.9767\n",
      "Epoch 17/20\n",
      "1776/1776 [==============================] - 3s 2ms/step - loss: 0.0253 - accuracy: 0.9922 - f1_score: 0.9922 - precision: 0.9873 - recall: 0.9807\n",
      "Epoch 18/20\n",
      "1776/1776 [==============================] - 3s 2ms/step - loss: 0.0268 - accuracy: 0.9919 - f1_score: 0.9919 - precision: 0.9893 - recall: 0.9772\n",
      "Epoch 19/20\n",
      "1776/1776 [==============================] - 3s 2ms/step - loss: 0.0253 - accuracy: 0.9923 - f1_score: 0.9923 - precision: 0.9869 - recall: 0.9815\n",
      "Epoch 20/20\n",
      "1776/1776 [==============================] - 3s 2ms/step - loss: 0.0226 - accuracy: 0.9939 - f1_score: 0.9939 - precision: 0.9905 - recall: 0.9836\n"
     ]
    }
   ],
   "source": [
    "history = model.fit(X_train, Y_train, batch_size = 10, epochs = 20)\n"
   ]
  },
  {
   "cell_type": "code",
   "execution_count": 34,
   "metadata": {
    "colab": {
     "base_uri": "https://localhost:8080/"
    },
    "id": "86oxZkJrShUM",
    "outputId": "3efd957d-90f8-4cb2-d4c8-373aeae4b0a8"
   },
   "outputs": [
    {
     "name": "stdout",
     "output_type": "stream",
     "text": [
      "139/139 [==============================] - 1s 1ms/step - loss: 0.0371 - accuracy: 0.9908 - f1_score: 0.9906 - precision: 0.9933 - recall: 0.9684\n"
     ]
    }
   ],
   "source": [
    "model_val = model.evaluate(X_test,Y_test)"
   ]
  },
  {
   "cell_type": "code",
   "execution_count": 35,
   "metadata": {
    "colab": {
     "base_uri": "https://localhost:8080/"
    },
    "id": "LzCTWMZDSwLx",
    "outputId": "0e387901-71de-4b74-b4f0-2255dfb1c3c7"
   },
   "outputs": [
    {
     "data": {
      "text/plain": [
       "[0.0371382050216198,\n",
       " 0.9907636642456055,\n",
       " 0.990606427192688,\n",
       " 0.9933269619941711,\n",
       " 0.9684014916419983]"
      ]
     },
     "execution_count": 35,
     "metadata": {
      "tags": []
     },
     "output_type": "execute_result"
    }
   ],
   "source": [
    "model_val"
   ]
  },
  {
   "cell_type": "code",
   "execution_count": 37,
   "metadata": {
    "colab": {
     "base_uri": "https://localhost:8080/",
     "height": 513
    },
    "id": "5uFZnEjJSxF8",
    "outputId": "fe2256d1-16db-4056-fa9b-c20a9b09d05d"
   },
   "outputs": [
    {
     "data": {
      "image/png": "[encoded data removed]",
      "text/plain": [
       "<Figure size 576x576 with 2 Axes>"
      ]
     },
     "metadata": {
      "needs_background": "light",
      "tags": []
     },
     "output_type": "display_data"
    }
   ],
   "source": [
    "y_pred = model.predict(X_test)\n",
    "y_pred = (y_pred > 0.5).astype(int)\n",
    "\n",
    "import numpy as np\n",
    "Y_pred = np.argmax(y_pred, axis=1)\n",
    "\n",
    "from sklearn.metrics import confusion_matrix\n",
    "cm = confusion_matrix(Y_test, y_pred)\n",
    "\n",
    "import seaborn as sns\n",
    "Y_pred = model.predict(X_test)\n",
    "Y_pred_classes = np.argmax(Y_pred,axis = 1) \n",
    "Y_true = np.argmax(Y_test) \n",
    "f,ax = plt.subplots(figsize=(8, 8))\n",
    "sns.heatmap(cm, annot=True, linewidths=0.01,cmap=\"Greens\",linecolor=\"gray\", fmt= '.1f',ax=ax)\n",
    "plt.xlabel(\"Predicted Label\")\n",
    "plt.ylabel(\"True Label\")\n",
    "plt.title(\"Confusion Matrix\")\n",
    "plt.show()"
   ]
  },
  {
   "cell_type": "code",
   "execution_count": 43,
   "metadata": {
    "colab": {
     "base_uri": "https://localhost:8080/",
     "height": 295
    },
    "id": "Zn-ye6BjSzmM",
    "outputId": "d3bc2173-83c1-435c-a660-684a1712596e"
   },
   "outputs": [
    {
     "data": {
      "image/png": "[encoded data removed]",
      "text/plain": [
       "<Figure size 432x288 with 1 Axes>"
      ]
     },
     "metadata": {
      "needs_background": "light",
      "tags": []
     },
     "output_type": "display_data"
    }
   ],
   "source": [
    "plt.plot(history.history['loss'])\n",
    "plt.plot(history.history['accuracy'])\n",
    "plt.plot(history.history['f1_score'])\n",
    "plt.plot(history.history['precision'])\n",
    "plt.plot(history.history['recall'])\n",
    "plt.title('Model Train')\n",
    "plt.ylabel('Value')\n",
    "plt.xlabel('epoch')\n",
    "plt.legend(['loss', 'accuracy','f1_score', 'precision', 'recall'], loc='center left')\n",
    "plt.show()"
   ]
  },
  {
   "cell_type": "markdown",
   "metadata": {
    "id": "gt-r21jmTopF"
   },
   "source": [
    "## 3 hidden layer "
   ]
  },
  {
   "cell_type": "code",
   "execution_count": 44,
   "metadata": {
    "id": "T4hi4RC4TrCv"
   },
   "outputs": [],
   "source": [
    "model.add(Dense(32, activation = 'relu', input_dim = 15))\n",
    "model.add(Dense(32, activation = 'relu'))\n",
    "model.add(Dense(64, activation = 'relu'))\n",
    "model.add(Dense(1, activation = 'sigmoid'))"
   ]
  },
  {
   "cell_type": "code",
   "execution_count": 47,
   "metadata": {
    "colab": {
     "base_uri": "https://localhost:8080/"
    },
    "id": "KZe29manTwhg",
    "outputId": "1299e32c-40cb-417f-ef69-77b2723889e5"
   },
   "outputs": [
    {
     "name": "stdout",
     "output_type": "stream",
     "text": [
      "Model: \"sequential_1\"\n",
      "_________________________________________________________________\n",
      "Layer (type)                 Output Shape              Param #   \n",
      "=================================================================\n",
      "dense_2 (Dense)              (None, 32)                512       \n",
      "_________________________________________________________________\n",
      "dense_3 (Dense)              (None, 32)                1056      \n",
      "_________________________________________________________________\n",
      "dense_4 (Dense)              (None, 1)                 33        \n",
      "_________________________________________________________________\n",
      "dense_5 (Dense)              (None, 32)                64        \n",
      "_________________________________________________________________\n",
      "dense_6 (Dense)              (None, 32)                1056      \n",
      "_________________________________________________________________\n",
      "dense_7 (Dense)              (None, 64)                2112      \n",
      "_________________________________________________________________\n",
      "dense_8 (Dense)              (None, 1)                 65        \n",
      "=================================================================\n",
      "Total params: 4,898\n",
      "Trainable params: 4,898\n",
      "Non-trainable params: 0\n",
      "_________________________________________________________________\n"
     ]
    }
   ],
   "source": [
    "model.summary()"
   ]
  },
  {
   "cell_type": "code",
   "execution_count": 48,
   "metadata": {
    "colab": {
     "base_uri": "https://localhost:8080/"
    },
    "id": "IiYgaDPqT2U-",
    "outputId": "413dcd67-c4cc-4f6a-f819-b1bff42031f5"
   },
   "outputs": [
    {
     "name": "stdout",
     "output_type": "stream",
     "text": [
      "Epoch 1/20\n",
      "1776/1776 [==============================] - 4s 2ms/step - loss: 0.1305 - accuracy: 0.9892 - f1_score: 0.9892 - precision: 0.9752 - recall: 0.9839\n",
      "Epoch 2/20\n",
      "1776/1776 [==============================] - 3s 2ms/step - loss: 0.0326 - accuracy: 0.9911 - f1_score: 0.9911 - precision: 0.9853 - recall: 0.9786\n",
      "Epoch 3/20\n",
      "1776/1776 [==============================] - 3s 2ms/step - loss: 0.0292 - accuracy: 0.9919 - f1_score: 0.9919 - precision: 0.9868 - recall: 0.9799\n",
      "Epoch 4/20\n",
      "1776/1776 [==============================] - 3s 2ms/step - loss: 0.0286 - accuracy: 0.9922 - f1_score: 0.9922 - precision: 0.9875 - recall: 0.9791\n",
      "Epoch 5/20\n",
      "1776/1776 [==============================] - 3s 2ms/step - loss: 0.0312 - accuracy: 0.9913 - f1_score: 0.9913 - precision: 0.9880 - recall: 0.9757\n",
      "Epoch 6/20\n",
      "1776/1776 [==============================] - 3s 2ms/step - loss: 0.0278 - accuracy: 0.9914 - f1_score: 0.9914 - precision: 0.9843 - recall: 0.9803\n",
      "Epoch 7/20\n",
      "1776/1776 [==============================] - 3s 2ms/step - loss: 0.0267 - accuracy: 0.9914 - f1_score: 0.9914 - precision: 0.9873 - recall: 0.9777\n",
      "Epoch 8/20\n",
      "1776/1776 [==============================] - 4s 2ms/step - loss: 0.0297 - accuracy: 0.9909 - f1_score: 0.9909 - precision: 0.9864 - recall: 0.9766\n",
      "Epoch 9/20\n",
      "1776/1776 [==============================] - 3s 2ms/step - loss: 0.0309 - accuracy: 0.9905 - f1_score: 0.9905 - precision: 0.9856 - recall: 0.9751\n",
      "Epoch 10/20\n",
      "1776/1776 [==============================] - 4s 2ms/step - loss: 0.0263 - accuracy: 0.9916 - f1_score: 0.9916 - precision: 0.9867 - recall: 0.9765\n",
      "Epoch 11/20\n",
      "1776/1776 [==============================] - 3s 2ms/step - loss: 0.0276 - accuracy: 0.9908 - f1_score: 0.9908 - precision: 0.9858 - recall: 0.9761\n",
      "Epoch 12/20\n",
      "1776/1776 [==============================] - 3s 2ms/step - loss: 0.0286 - accuracy: 0.9909 - f1_score: 0.9909 - precision: 0.9873 - recall: 0.9751\n",
      "Epoch 13/20\n",
      "1776/1776 [==============================] - 4s 2ms/step - loss: 0.0233 - accuracy: 0.9928 - f1_score: 0.9928 - precision: 0.9903 - recall: 0.9794\n",
      "Epoch 14/20\n",
      "1776/1776 [==============================] - 3s 2ms/step - loss: 0.0258 - accuracy: 0.9924 - f1_score: 0.9924 - precision: 0.9901 - recall: 0.9784\n",
      "Epoch 15/20\n",
      "1776/1776 [==============================] - 3s 2ms/step - loss: 0.0269 - accuracy: 0.9919 - f1_score: 0.9919 - precision: 0.9877 - recall: 0.9790\n",
      "Epoch 16/20\n",
      "1776/1776 [==============================] - 3s 2ms/step - loss: 0.0249 - accuracy: 0.9923 - f1_score: 0.9923 - precision: 0.9890 - recall: 0.9789\n",
      "Epoch 17/20\n",
      "1776/1776 [==============================] - 3s 2ms/step - loss: 0.0236 - accuracy: 0.9921 - f1_score: 0.9921 - precision: 0.9874 - recall: 0.9801\n",
      "Epoch 18/20\n",
      "1776/1776 [==============================] - 3s 2ms/step - loss: 0.0295 - accuracy: 0.9897 - f1_score: 0.9897 - precision: 0.9834 - recall: 0.9733\n",
      "Epoch 19/20\n",
      "1776/1776 [==============================] - 3s 2ms/step - loss: 0.0283 - accuracy: 0.9911 - f1_score: 0.9911 - precision: 0.9865 - recall: 0.9768\n",
      "Epoch 20/20\n",
      "1776/1776 [==============================] - 3s 2ms/step - loss: 0.0245 - accuracy: 0.9919 - f1_score: 0.9919 - precision: 0.9874 - recall: 0.9780\n"
     ]
    }
   ],
   "source": [
    "model.compile(optimizer='adam', loss = 'binary_crossentropy', metrics = ['accuracy',f1_score, Precision(name='precision'), Recall(name='recall')])\n",
    "history = model.fit(X_train, Y_train, batch_size = 10, epochs = 20)"
   ]
  },
  {
   "cell_type": "code",
   "execution_count": 49,
   "metadata": {
    "colab": {
     "base_uri": "https://localhost:8080/"
    },
    "id": "VeMu2rZ3T9HO",
    "outputId": "4a95a093-dcd1-4607-a0e7-738651e44a92"
   },
   "outputs": [
    {
     "name": "stdout",
     "output_type": "stream",
     "text": [
      "139/139 [==============================] - 1s 1ms/step - loss: 0.0294 - accuracy: 0.9919 - f1_score: 0.9917 - precision: 0.9906 - recall: 0.9758\n"
     ]
    }
   ],
   "source": [
    "model_val = model.evaluate(X_test,Y_test)"
   ]
  },
  {
   "cell_type": "code",
   "execution_count": 50,
   "metadata": {
    "colab": {
     "base_uri": "https://localhost:8080/"
    },
    "id": "YOZYwrRJUA0D",
    "outputId": "25c04f75-edac-484a-cafe-ae585926ae34"
   },
   "outputs": [
    {
     "data": {
      "text/plain": [
       "[0.029415126889944077,\n",
       " 0.9918900728225708,\n",
       " 0.9917305111885071,\n",
       " 0.9905660152435303,\n",
       " 0.975836455821991]"
      ]
     },
     "execution_count": 50,
     "metadata": {
      "tags": []
     },
     "output_type": "execute_result"
    }
   ],
   "source": [
    "model_val"
   ]
  },
  {
   "cell_type": "code",
   "execution_count": 51,
   "metadata": {
    "colab": {
     "base_uri": "https://localhost:8080/",
     "height": 513
    },
    "id": "TcMpah9KUB3G",
    "outputId": "b8f52a5c-8fad-43f7-af31-149b2a5f1b80"
   },
   "outputs": [
    {
     "data": {
      "image/png": "[encoded data removed]",
      "text/plain": [
       "<Figure size 576x576 with 2 Axes>"
      ]
     },
     "metadata": {
      "needs_background": "light",
      "tags": []
     },
     "output_type": "display_data"
    }
   ],
   "source": [
    "y_pred = model.predict(X_test)\n",
    "y_pred = (y_pred > 0.5).astype(int)\n",
    "\n",
    "import numpy as np\n",
    "Y_pred = np.argmax(y_pred, axis=1)\n",
    "\n",
    "from sklearn.metrics import confusion_matrix\n",
    "cm = confusion_matrix(Y_test, y_pred)\n",
    "\n",
    "import seaborn as sns\n",
    "Y_pred = model.predict(X_test)\n",
    "Y_pred_classes = np.argmax(Y_pred,axis = 1) \n",
    "Y_true = np.argmax(Y_test) \n",
    "f,ax = plt.subplots(figsize=(8, 8))\n",
    "sns.heatmap(cm, annot=True, linewidths=0.01,cmap=\"Greens\",linecolor=\"gray\", fmt= '.1f',ax=ax)\n",
    "plt.xlabel(\"Predicted Label\")\n",
    "plt.ylabel(\"True Label\")\n",
    "plt.title(\"Confusion Matrix\")\n",
    "plt.show()"
   ]
  },
  {
   "cell_type": "code",
   "execution_count": 52,
   "metadata": {
    "colab": {
     "base_uri": "https://localhost:8080/",
     "height": 295
    },
    "id": "lfB9w-8AUE1M",
    "outputId": "8ec87d1e-3952-42eb-b3f1-c0c09787f972"
   },
   "outputs": [
    {
     "data": {
      "image/png": "[encoded data removed]",
      "text/plain": [
       "<Figure size 432x288 with 1 Axes>"
      ]
     },
     "metadata": {
      "needs_background": "light",
      "tags": []
     },
     "output_type": "display_data"
    }
   ],
   "source": [
    "plt.plot(history.history['loss'])\n",
    "plt.plot(history.history['accuracy'])\n",
    "plt.plot(history.history['f1_score'])\n",
    "plt.plot(history.history['precision'])\n",
    "plt.plot(history.history['recall'])\n",
    "plt.title('Model Train')\n",
    "plt.ylabel('Value')\n",
    "plt.xlabel('epoch')\n",
    "plt.legend(['loss', 'accuracy','f1_score', 'precision', 'recall'], loc='center left')\n",
    "plt.show()"
   ]
  },
  {
   "cell_type": "markdown",
   "metadata": {
    "id": "flwFPbQQVIHU"
   },
   "source": [
    "## 4 hidden layer "
   ]
  },
  {
   "cell_type": "code",
   "execution_count": 53,
   "metadata": {
    "id": "qCzTNdizVKkp"
   },
   "outputs": [],
   "source": [
    "model.add(Dense(32, activation = 'relu', input_dim = 15))\n",
    "model.add(Dense(32, activation = 'relu'))\n",
    "model.add(Dense(64, activation = 'relu'))\n",
    "model.add(Dense(128, activation = 'relu'))\n",
    "model.add(Dense(1, activation = 'sigmoid'))"
   ]
  },
  {
   "cell_type": "code",
   "execution_count": 54,
   "metadata": {
    "colab": {
     "base_uri": "https://localhost:8080/"
    },
    "id": "T00NJlCRT1p_",
    "outputId": "9aabfed6-c9da-4543-e6e5-47a92af99d77"
   },
   "outputs": [
    {
     "name": "stdout",
     "output_type": "stream",
     "text": [
      "Model: \"sequential_1\"\n",
      "_________________________________________________________________\n",
      "Layer (type)                 Output Shape              Param #   \n",
      "=================================================================\n",
      "dense_2 (Dense)              (None, 32)                512       \n",
      "_________________________________________________________________\n",
      "dense_3 (Dense)              (None, 32)                1056      \n",
      "_________________________________________________________________\n",
      "dense_4 (Dense)              (None, 1)                 33        \n",
      "_________________________________________________________________\n",
      "dense_5 (Dense)              (None, 32)                64        \n",
      "_________________________________________________________________\n",
      "dense_6 (Dense)              (None, 32)                1056      \n",
      "_________________________________________________________________\n",
      "dense_7 (Dense)              (None, 64)                2112      \n",
      "_________________________________________________________________\n",
      "dense_8 (Dense)              (None, 1)                 65        \n",
      "_________________________________________________________________\n",
      "dense_9 (Dense)              (None, 32)                64        \n",
      "_________________________________________________________________\n",
      "dense_10 (Dense)             (None, 32)                1056      \n",
      "_________________________________________________________________\n",
      "dense_11 (Dense)             (None, 64)                2112      \n",
      "_________________________________________________________________\n",
      "dense_12 (Dense)             (None, 128)               8320      \n",
      "_________________________________________________________________\n",
      "dense_13 (Dense)             (None, 1)                 129       \n",
      "=================================================================\n",
      "Total params: 16,579\n",
      "Trainable params: 16,579\n",
      "Non-trainable params: 0\n",
      "_________________________________________________________________\n"
     ]
    }
   ],
   "source": [
    "model.summary()"
   ]
  },
  {
   "cell_type": "code",
   "execution_count": 55,
   "metadata": {
    "colab": {
     "base_uri": "https://localhost:8080/"
    },
    "id": "R6Y1BZXSVYJA",
    "outputId": "c5dd2fca-4210-42f2-be17-520883531544"
   },
   "outputs": [
    {
     "name": "stdout",
     "output_type": "stream",
     "text": [
      "Epoch 1/20\n",
      "1776/1776 [==============================] - 6s 2ms/step - loss: 0.1110 - accuracy: 0.9862 - f1_score: 0.9862 - precision: 0.9688 - recall: 0.9782\n",
      "Epoch 2/20\n",
      "1776/1776 [==============================] - 5s 3ms/step - loss: 0.0273 - accuracy: 0.9906 - f1_score: 0.9906 - precision: 0.9827 - recall: 0.9795\n",
      "Epoch 3/20\n",
      "1776/1776 [==============================] - 4s 2ms/step - loss: 0.0303 - accuracy: 0.9908 - f1_score: 0.9908 - precision: 0.9842 - recall: 0.9784\n",
      "Epoch 4/20\n",
      "1776/1776 [==============================] - 4s 2ms/step - loss: 0.0292 - accuracy: 0.9921 - f1_score: 0.9921 - precision: 0.9893 - recall: 0.9788\n",
      "Epoch 5/20\n",
      "1776/1776 [==============================] - 4s 2ms/step - loss: 0.0296 - accuracy: 0.9908 - f1_score: 0.9908 - precision: 0.9869 - recall: 0.9752\n",
      "Epoch 6/20\n",
      "1776/1776 [==============================] - 4s 2ms/step - loss: 0.0280 - accuracy: 0.9913 - f1_score: 0.9913 - precision: 0.9846 - recall: 0.9796\n",
      "Epoch 7/20\n",
      "1776/1776 [==============================] - 4s 3ms/step - loss: 0.0273 - accuracy: 0.9908 - f1_score: 0.9908 - precision: 0.9839 - recall: 0.9790\n",
      "Epoch 8/20\n",
      "1776/1776 [==============================] - 4s 3ms/step - loss: 0.0304 - accuracy: 0.9902 - f1_score: 0.9902 - precision: 0.9859 - recall: 0.9735\n",
      "Epoch 9/20\n",
      "1776/1776 [==============================] - 5s 3ms/step - loss: 0.0259 - accuracy: 0.9911 - f1_score: 0.9911 - precision: 0.9861 - recall: 0.9759\n",
      "Epoch 10/20\n",
      "1776/1776 [==============================] - 4s 3ms/step - loss: 0.0256 - accuracy: 0.9925 - f1_score: 0.9925 - precision: 0.9876 - recall: 0.9813\n",
      "Epoch 11/20\n",
      "1776/1776 [==============================] - 4s 2ms/step - loss: 0.0273 - accuracy: 0.9924 - f1_score: 0.9924 - precision: 0.9888 - recall: 0.9797\n",
      "Epoch 12/20\n",
      "1776/1776 [==============================] - 4s 2ms/step - loss: 0.0300 - accuracy: 0.9915 - f1_score: 0.9915 - precision: 0.9870 - recall: 0.9775\n",
      "Epoch 13/20\n",
      "1776/1776 [==============================] - 4s 2ms/step - loss: 0.0300 - accuracy: 0.9909 - f1_score: 0.9909 - precision: 0.9844 - recall: 0.9777\n",
      "Epoch 14/20\n",
      "1776/1776 [==============================] - 4s 2ms/step - loss: 0.0250 - accuracy: 0.9926 - f1_score: 0.9926 - precision: 0.9894 - recall: 0.9796\n",
      "Epoch 15/20\n",
      "1776/1776 [==============================] - 4s 2ms/step - loss: 0.0265 - accuracy: 0.9913 - f1_score: 0.9913 - precision: 0.9866 - recall: 0.9761\n",
      "Epoch 16/20\n",
      "1776/1776 [==============================] - 4s 2ms/step - loss: 0.0255 - accuracy: 0.9921 - f1_score: 0.9921 - precision: 0.9882 - recall: 0.9799\n",
      "Epoch 17/20\n",
      "1776/1776 [==============================] - 4s 2ms/step - loss: 0.0283 - accuracy: 0.9914 - f1_score: 0.9914 - precision: 0.9844 - recall: 0.9793\n",
      "Epoch 18/20\n",
      "1776/1776 [==============================] - 4s 2ms/step - loss: 0.0298 - accuracy: 0.9906 - f1_score: 0.9906 - precision: 0.9889 - recall: 0.9735\n",
      "Epoch 19/20\n",
      "1776/1776 [==============================] - 4s 2ms/step - loss: 0.0246 - accuracy: 0.9920 - f1_score: 0.9920 - precision: 0.9902 - recall: 0.9775\n",
      "Epoch 20/20\n",
      "1776/1776 [==============================] - 4s 2ms/step - loss: 0.0268 - accuracy: 0.9923 - f1_score: 0.9923 - precision: 0.9890 - recall: 0.9791\n"
     ]
    }
   ],
   "source": [
    "model.compile(optimizer='adam', loss = 'binary_crossentropy', metrics = ['accuracy',f1_score, Precision(name='precision'), Recall(name='recall')])\n",
    "history = model.fit(X_train, Y_train, batch_size = 10, epochs = 20)"
   ]
  },
  {
   "cell_type": "code",
   "execution_count": 56,
   "metadata": {
    "colab": {
     "base_uri": "https://localhost:8080/"
    },
    "id": "7MsPOc1UVclR",
    "outputId": "4ac69f52-018f-4d37-9c0e-907cbfcace5e"
   },
   "outputs": [
    {
     "name": "stdout",
     "output_type": "stream",
     "text": [
      "139/139 [==============================] - 1s 1ms/step - loss: 0.0314 - accuracy: 0.9919 - f1_score: 0.9917 - precision: 0.9906 - recall: 0.9758\n",
      "[0.03140312060713768, 0.9918900728225708, 0.9917305111885071, 0.9905660152435303, 0.975836455821991]\n"
     ]
    }
   ],
   "source": [
    "model_val = model.evaluate(X_test,Y_test)\n",
    "print(model_val)"
   ]
  },
  {
   "cell_type": "code",
   "execution_count": 60,
   "metadata": {
    "colab": {
     "base_uri": "https://localhost:8080/",
     "height": 513
    },
    "id": "vUGnwwJ0Vh2t",
    "outputId": "5af0d203-005c-4a9a-af67-b35b4963d4a8"
   },
   "outputs": [
    {
     "data": {
      "image/png": "[encoded data removed]",
      "text/plain": [
       "<Figure size 576x576 with 2 Axes>"
      ]
     },
     "metadata": {
      "needs_background": "light",
      "tags": []
     },
     "output_type": "display_data"
    }
   ],
   "source": [
    "y_pred = model.predict(X_test)\n",
    "y_pred = (y_pred > 0.5).astype(int)\n",
    "\n",
    "import numpy as np\n",
    "Y_pred = np.argmax(y_pred, axis=1)\n",
    "\n",
    "from sklearn.metrics import confusion_matrix\n",
    "cm = confusion_matrix(Y_test, y_pred)\n",
    "\n",
    "import seaborn as sns\n",
    "Y_pred = model.predict(X_test)\n",
    "Y_pred_classes = np.argmax(Y_pred,axis = 1) \n",
    "Y_true = np.argmax(Y_test) \n",
    "f,ax = plt.subplots(figsize=(8, 8))\n",
    "sns.heatmap(cm, annot=True, linewidths=0.01,cmap=\"Greens\",linecolor=\"gray\", fmt= '.1f',ax=ax)\n",
    "plt.xlabel(\"Predicted Label\")\n",
    "plt.ylabel(\"True Label\")\n",
    "plt.title(\"Confusion Matrix\")\n",
    "plt.show()"
   ]
  },
  {
   "cell_type": "code",
   "execution_count": 59,
   "metadata": {
    "colab": {
     "base_uri": "https://localhost:8080/",
     "height": 295
    },
    "id": "vYsINfCkVlG9",
    "outputId": "3ddcbcef-8083-4e8f-e89f-70c21b82efa9"
   },
   "outputs": [
    {
     "data": {
      "image/png": "[encoded data removed]",
      "text/plain": [
       "<Figure size 432x288 with 1 Axes>"
      ]
     },
     "metadata": {
      "needs_background": "light",
      "tags": []
     },
     "output_type": "display_data"
    }
   ],
   "source": [
    "plt.plot(history.history['loss'])\n",
    "plt.plot(history.history['accuracy'])\n",
    "plt.plot(history.history['f1_score'])\n",
    "plt.plot(history.history['precision'])\n",
    "plt.plot(history.history['recall'])\n",
    "plt.title('Model Train')\n",
    "plt.ylabel('Value')\n",
    "plt.xlabel('epoch')\n",
    "plt.legend(['loss', 'accuracy','f1_score', 'precision', 'recall'], loc='center left')\n",
    "plt.show()"
   ]
  },
  {
   "cell_type": "code",
   "execution_count": 63,
   "metadata": {
    "id": "qaC0b-cJTy0V"
   },
   "outputs": [],
   "source": [
    "## 4 hidden layer, activation ='tanh'"
   ]
  },
  {
   "cell_type": "markdown",
   "metadata": {
    "id": "qC01ytIZW11l"
   },
   "source": []
  },
  {
   "cell_type": "code",
   "execution_count": 64,
   "metadata": {
    "colab": {
     "base_uri": "https://localhost:8080/",
     "height": 1000
    },
    "id": "m7gZk62HWnLr",
    "outputId": "a006a476-1a7d-4bfa-d06c-a87fe905216d"
   },
   "outputs": [
    {
     "name": "stdout",
     "output_type": "stream",
     "text": [
      "Model: \"sequential_1\"\n",
      "_________________________________________________________________\n",
      "Layer (type)                 Output Shape              Param #   \n",
      "=================================================================\n",
      "dense_2 (Dense)              (None, 32)                512       \n",
      "_________________________________________________________________\n",
      "dense_3 (Dense)              (None, 32)                1056      \n",
      "_________________________________________________________________\n",
      "dense_4 (Dense)              (None, 1)                 33        \n",
      "_________________________________________________________________\n",
      "dense_5 (Dense)              (None, 32)                64        \n",
      "_________________________________________________________________\n",
      "dense_6 (Dense)              (None, 32)                1056      \n",
      "_________________________________________________________________\n",
      "dense_7 (Dense)              (None, 64)                2112      \n",
      "_________________________________________________________________\n",
      "dense_8 (Dense)              (None, 1)                 65        \n",
      "_________________________________________________________________\n",
      "dense_9 (Dense)              (None, 32)                64        \n",
      "_________________________________________________________________\n",
      "dense_10 (Dense)             (None, 32)                1056      \n",
      "_________________________________________________________________\n",
      "dense_11 (Dense)             (None, 64)                2112      \n",
      "_________________________________________________________________\n",
      "dense_12 (Dense)             (None, 128)               8320      \n",
      "_________________________________________________________________\n",
      "dense_13 (Dense)             (None, 1)                 129       \n",
      "_________________________________________________________________\n",
      "dense_14 (Dense)             (None, 32)                64        \n",
      "_________________________________________________________________\n",
      "dense_15 (Dense)             (None, 32)                1056      \n",
      "_________________________________________________________________\n",
      "dense_16 (Dense)             (None, 64)                2112      \n",
      "_________________________________________________________________\n",
      "dense_17 (Dense)             (None, 128)               8320      \n",
      "_________________________________________________________________\n",
      "dense_18 (Dense)             (None, 1)                 129       \n",
      "_________________________________________________________________\n",
      "dense_19 (Dense)             (None, 32)                64        \n",
      "_________________________________________________________________\n",
      "dense_20 (Dense)             (None, 32)                1056      \n",
      "_________________________________________________________________\n",
      "dense_21 (Dense)             (None, 64)                2112      \n",
      "_________________________________________________________________\n",
      "dense_22 (Dense)             (None, 128)               8320      \n",
      "_________________________________________________________________\n",
      "dense_23 (Dense)             (None, 1)                 129       \n",
      "=================================================================\n",
      "Total params: 39,941\n",
      "Trainable params: 39,941\n",
      "Non-trainable params: 0\n",
      "_________________________________________________________________\n",
      "Epoch 1/20\n",
      "1776/1776 [==============================] - 8s 3ms/step - loss: 0.0751 - accuracy: 0.9735 - f1_score: 0.9735 - precision: 0.9693 - recall: 0.9091\n",
      "Epoch 2/20\n",
      "1776/1776 [==============================] - 6s 3ms/step - loss: 0.0321 - accuracy: 0.9907 - f1_score: 0.9907 - precision: 0.9847 - recall: 0.9764\n",
      "Epoch 3/20\n",
      "1776/1776 [==============================] - 6s 3ms/step - loss: 0.0327 - accuracy: 0.9913 - f1_score: 0.9913 - precision: 0.9855 - recall: 0.9777\n",
      "Epoch 4/20\n",
      "1776/1776 [==============================] - 6s 3ms/step - loss: 0.0320 - accuracy: 0.9907 - f1_score: 0.9907 - precision: 0.9828 - recall: 0.9800\n",
      "Epoch 5/20\n",
      "1776/1776 [==============================] - 6s 3ms/step - loss: 0.0344 - accuracy: 0.9910 - f1_score: 0.9910 - precision: 0.9859 - recall: 0.9773\n",
      "Epoch 6/20\n",
      "1776/1776 [==============================] - 6s 4ms/step - loss: 0.0330 - accuracy: 0.9922 - f1_score: 0.9922 - precision: 0.9874 - recall: 0.9799\n",
      "Epoch 7/20\n",
      "1776/1776 [==============================] - 6s 3ms/step - loss: 0.0331 - accuracy: 0.9909 - f1_score: 0.9909 - precision: 0.9865 - recall: 0.9756\n",
      "Epoch 8/20\n",
      "1776/1776 [==============================] - 6s 3ms/step - loss: 0.0354 - accuracy: 0.9900 - f1_score: 0.9900 - precision: 0.9829 - recall: 0.9767\n",
      "Epoch 9/20\n",
      "1776/1776 [==============================] - 6s 3ms/step - loss: 0.0304 - accuracy: 0.9917 - f1_score: 0.9917 - precision: 0.9859 - recall: 0.9796\n",
      "Epoch 10/20\n",
      "1776/1776 [==============================] - 6s 4ms/step - loss: 0.0342 - accuracy: 0.9901 - f1_score: 0.9901 - precision: 0.9828 - recall: 0.9766\n",
      "Epoch 11/20\n",
      "1776/1776 [==============================] - 6s 3ms/step - loss: 0.0313 - accuracy: 0.9908 - f1_score: 0.9908 - precision: 0.9853 - recall: 0.9766\n",
      "Epoch 12/20\n",
      "1776/1776 [==============================] - 6s 3ms/step - loss: 0.0333 - accuracy: 0.9894 - f1_score: 0.9894 - precision: 0.9808 - recall: 0.9754\n",
      "Epoch 13/20\n",
      "1776/1776 [==============================] - 6s 3ms/step - loss: 0.0339 - accuracy: 0.9905 - f1_score: 0.9905 - precision: 0.9817 - recall: 0.9792\n",
      "Epoch 14/20\n",
      "1776/1776 [==============================] - 6s 3ms/step - loss: 0.0286 - accuracy: 0.9905 - f1_score: 0.9905 - precision: 0.9841 - recall: 0.9766\n",
      "Epoch 15/20\n",
      "1776/1776 [==============================] - 6s 3ms/step - loss: 0.0318 - accuracy: 0.9915 - f1_score: 0.9915 - precision: 0.9861 - recall: 0.9794\n",
      "Epoch 16/20\n",
      "1776/1776 [==============================] - 6s 3ms/step - loss: 0.0308 - accuracy: 0.9909 - f1_score: 0.9909 - precision: 0.9857 - recall: 0.9770\n",
      "Epoch 17/20\n",
      "1776/1776 [==============================] - 6s 3ms/step - loss: 0.0328 - accuracy: 0.9912 - f1_score: 0.9912 - precision: 0.9848 - recall: 0.9782\n",
      "Epoch 18/20\n",
      "1776/1776 [==============================] - 6s 3ms/step - loss: 0.0328 - accuracy: 0.9908 - f1_score: 0.9908 - precision: 0.9850 - recall: 0.9770\n",
      "Epoch 19/20\n",
      "1776/1776 [==============================] - 6s 3ms/step - loss: 0.0303 - accuracy: 0.9889 - f1_score: 0.9889 - precision: 0.9841 - recall: 0.9703\n",
      "Epoch 20/20\n",
      "1776/1776 [==============================] - 6s 3ms/step - loss: 0.0293 - accuracy: 0.9914 - f1_score: 0.9914 - precision: 0.9855 - recall: 0.9765\n",
      "139/139 [==============================] - 1s 2ms/step - loss: 0.0342 - accuracy: 0.9910 - f1_score: 0.9908 - precision: 0.9915 - recall: 0.9712\n",
      "[0.034150704741477966, 0.9909889698028564, 0.990831196308136, 0.9914610981941223, 0.9711896181106567]\n"
     ]
    },
    {
     "data": {
      "image/png": "[encoded data removed]",
      "text/plain": [
       "<Figure size 576x576 with 2 Axes>"
      ]
     },
     "metadata": {
      "needs_background": "light",
      "tags": []
     },
     "output_type": "display_data"
    },
    {
     "data": {
      "image/png": "[encoded data removed]",
      "text/plain": [
       "<Figure size 432x288 with 1 Axes>"
      ]
     },
     "metadata": {
      "needs_background": "light",
      "tags": []
     },
     "output_type": "display_data"
    }
   ],
   "source": [
    "model.add(Dense(32, activation = 'tanh', input_dim = 15))\n",
    "model.add(Dense(32, activation = 'tanh'))\n",
    "model.add(Dense(64, activation = 'tanh'))\n",
    "model.add(Dense(128, activation = 'tanh'))\n",
    "model.add(Dense(1, activation = 'sigmoid'))\n",
    "\n",
    "model.summary()\n",
    "\n",
    "model.compile(optimizer='adam', loss = 'binary_crossentropy', metrics = ['accuracy',f1_score, Precision(name='precision'), Recall(name='recall')])\n",
    "history = model.fit(X_train, Y_train, batch_size = 10, epochs = 20)\n",
    "\n",
    "model_val = model.evaluate(X_test,Y_test)\n",
    "print(model_val)\n",
    "\n",
    "y_pred = model.predict(X_test)\n",
    "y_pred = (y_pred > 0.5).astype(int)\n",
    "\n",
    "import numpy as np\n",
    "Y_pred = np.argmax(y_pred, axis=1)\n",
    "\n",
    "from sklearn.metrics import confusion_matrix\n",
    "cm = confusion_matrix(Y_test, y_pred)\n",
    "\n",
    "import seaborn as sns\n",
    "Y_pred = model.predict(X_test)\n",
    "Y_pred_classes = np.argmax(Y_pred,axis = 1) \n",
    "Y_true = np.argmax(Y_test) \n",
    "f,ax = plt.subplots(figsize=(8, 8))\n",
    "sns.heatmap(cm, annot=True, linewidths=0.01,cmap=\"Greens\",linecolor=\"gray\", fmt= '.1f',ax=ax)\n",
    "plt.xlabel(\"Predicted Label\")\n",
    "plt.ylabel(\"True Label\")\n",
    "plt.title(\"Confusion Matrix\")\n",
    "plt.show()\n",
    "\n",
    "plt.plot(history.history['loss'])\n",
    "plt.plot(history.history['accuracy'])\n",
    "plt.plot(history.history['f1_score'])\n",
    "plt.plot(history.history['precision'])\n",
    "plt.plot(history.history['recall'])\n",
    "plt.title('Model Train')\n",
    "plt.ylabel('Value')\n",
    "plt.xlabel('epoch')\n",
    "plt.legend(['loss', 'accuracy','f1_score', 'precision', 'recall'], loc='center left')\n",
    "plt.show()"
   ]
  },
  {
   "cell_type": "code",
   "execution_count": null,
   "metadata": {
    "id": "A4t-UCZcWslz"
   },
   "outputs": [],
   "source": []
  },
  {
   "cell_type": "markdown",
   "metadata": {
    "id": "nbX8RjPYX1GM"
   },
   "source": [
    "## 3 hiden layer, activation ='tanh'"
   ]
  },
  {
   "cell_type": "code",
   "execution_count": 65,
   "metadata": {
    "colab": {
     "base_uri": "https://localhost:8080/",
     "height": 1000
    },
    "id": "e-COqSXqX4d0",
    "outputId": "6828b08f-cbe1-48b8-cfd6-ab3aa6deafce"
   },
   "outputs": [
    {
     "name": "stdout",
     "output_type": "stream",
     "text": [
      "Model: \"sequential_1\"\n",
      "_________________________________________________________________\n",
      "Layer (type)                 Output Shape              Param #   \n",
      "=================================================================\n",
      "dense_2 (Dense)              (None, 32)                512       \n",
      "_________________________________________________________________\n",
      "dense_3 (Dense)              (None, 32)                1056      \n",
      "_________________________________________________________________\n",
      "dense_4 (Dense)              (None, 1)                 33        \n",
      "_________________________________________________________________\n",
      "dense_5 (Dense)              (None, 32)                64        \n",
      "_________________________________________________________________\n",
      "dense_6 (Dense)              (None, 32)                1056      \n",
      "_________________________________________________________________\n",
      "dense_7 (Dense)              (None, 64)                2112      \n",
      "_________________________________________________________________\n",
      "dense_8 (Dense)              (None, 1)                 65        \n",
      "_________________________________________________________________\n",
      "dense_9 (Dense)              (None, 32)                64        \n",
      "_________________________________________________________________\n",
      "dense_10 (Dense)             (None, 32)                1056      \n",
      "_________________________________________________________________\n",
      "dense_11 (Dense)             (None, 64)                2112      \n",
      "_________________________________________________________________\n",
      "dense_12 (Dense)             (None, 128)               8320      \n",
      "_________________________________________________________________\n",
      "dense_13 (Dense)             (None, 1)                 129       \n",
      "_________________________________________________________________\n",
      "dense_14 (Dense)             (None, 32)                64        \n",
      "_________________________________________________________________\n",
      "dense_15 (Dense)             (None, 32)                1056      \n",
      "_________________________________________________________________\n",
      "dense_16 (Dense)             (None, 64)                2112      \n",
      "_________________________________________________________________\n",
      "dense_17 (Dense)             (None, 128)               8320      \n",
      "_________________________________________________________________\n",
      "dense_18 (Dense)             (None, 1)                 129       \n",
      "_________________________________________________________________\n",
      "dense_19 (Dense)             (None, 32)                64        \n",
      "_________________________________________________________________\n",
      "dense_20 (Dense)             (None, 32)                1056      \n",
      "_________________________________________________________________\n",
      "dense_21 (Dense)             (None, 64)                2112      \n",
      "_________________________________________________________________\n",
      "dense_22 (Dense)             (None, 128)               8320      \n",
      "_________________________________________________________________\n",
      "dense_23 (Dense)             (None, 1)                 129       \n",
      "_________________________________________________________________\n",
      "dense_24 (Dense)             (None, 32)                64        \n",
      "_________________________________________________________________\n",
      "dense_25 (Dense)             (None, 32)                1056      \n",
      "_________________________________________________________________\n",
      "dense_26 (Dense)             (None, 64)                2112      \n",
      "_________________________________________________________________\n",
      "dense_27 (Dense)             (None, 1)                 65        \n",
      "=================================================================\n",
      "Total params: 43,238\n",
      "Trainable params: 43,238\n",
      "Non-trainable params: 0\n",
      "_________________________________________________________________\n",
      "Epoch 1/20\n",
      "1776/1776 [==============================] - 9s 4ms/step - loss: 0.0897 - accuracy: 0.9886 - f1_score: 0.9886 - precision: 0.9848 - recall: 0.9672\n",
      "Epoch 2/20\n",
      "1776/1776 [==============================] - 7s 4ms/step - loss: 0.0411 - accuracy: 0.9918 - f1_score: 0.9918 - precision: 0.9914 - recall: 0.9747\n",
      "Epoch 3/20\n",
      "1776/1776 [==============================] - 7s 4ms/step - loss: 0.0409 - accuracy: 0.9887 - f1_score: 0.9887 - precision: 0.9815 - recall: 0.9727\n",
      "Epoch 4/20\n",
      "1776/1776 [==============================] - 7s 4ms/step - loss: 0.0341 - accuracy: 0.9907 - f1_score: 0.9907 - precision: 0.9833 - recall: 0.9779\n",
      "Epoch 5/20\n",
      "1776/1776 [==============================] - 7s 4ms/step - loss: 0.0344 - accuracy: 0.9912 - f1_score: 0.9912 - precision: 0.9883 - recall: 0.9754\n",
      "Epoch 6/20\n",
      "1776/1776 [==============================] - 7s 4ms/step - loss: 0.0332 - accuracy: 0.9917 - f1_score: 0.9917 - precision: 0.9855 - recall: 0.9802\n",
      "Epoch 7/20\n",
      "1776/1776 [==============================] - 6s 4ms/step - loss: 0.0321 - accuracy: 0.9918 - f1_score: 0.9918 - precision: 0.9887 - recall: 0.9772\n",
      "Epoch 8/20\n",
      "1776/1776 [==============================] - 6s 4ms/step - loss: 0.0315 - accuracy: 0.9907 - f1_score: 0.9907 - precision: 0.9886 - recall: 0.9732\n",
      "Epoch 9/20\n",
      "1776/1776 [==============================] - 7s 4ms/step - loss: 0.0369 - accuracy: 0.9895 - f1_score: 0.9895 - precision: 0.9820 - recall: 0.9750\n",
      "Epoch 10/20\n",
      "1776/1776 [==============================] - 7s 4ms/step - loss: 0.0320 - accuracy: 0.9913 - f1_score: 0.9913 - precision: 0.9828 - recall: 0.9811\n",
      "Epoch 11/20\n",
      "1776/1776 [==============================] - 7s 4ms/step - loss: 0.0311 - accuracy: 0.9909 - f1_score: 0.9909 - precision: 0.9864 - recall: 0.9752\n",
      "Epoch 12/20\n",
      "1776/1776 [==============================] - 6s 4ms/step - loss: 0.0347 - accuracy: 0.9911 - f1_score: 0.9911 - precision: 0.9873 - recall: 0.9763\n",
      "Epoch 13/20\n",
      "1776/1776 [==============================] - 7s 4ms/step - loss: 0.0335 - accuracy: 0.9889 - f1_score: 0.9889 - precision: 0.9803 - recall: 0.9722\n",
      "Epoch 14/20\n",
      "1776/1776 [==============================] - 7s 4ms/step - loss: 0.0346 - accuracy: 0.9909 - f1_score: 0.9909 - precision: 0.9873 - recall: 0.9742\n",
      "Epoch 15/20\n",
      "1776/1776 [==============================] - 7s 4ms/step - loss: 0.0320 - accuracy: 0.9910 - f1_score: 0.9910 - precision: 0.9866 - recall: 0.9762\n",
      "Epoch 16/20\n",
      "1776/1776 [==============================] - 6s 4ms/step - loss: 0.0312 - accuracy: 0.9916 - f1_score: 0.9916 - precision: 0.9861 - recall: 0.9795\n",
      "Epoch 17/20\n",
      "1776/1776 [==============================] - 7s 4ms/step - loss: 0.0285 - accuracy: 0.9921 - f1_score: 0.9921 - precision: 0.9865 - recall: 0.9813\n",
      "Epoch 18/20\n",
      "1776/1776 [==============================] - 7s 4ms/step - loss: 0.0334 - accuracy: 0.9911 - f1_score: 0.9911 - precision: 0.9846 - recall: 0.9782\n",
      "Epoch 19/20\n",
      "1776/1776 [==============================] - 7s 4ms/step - loss: 0.0387 - accuracy: 0.9910 - f1_score: 0.9910 - precision: 0.9826 - recall: 0.9811\n",
      "Epoch 20/20\n",
      "1776/1776 [==============================] - 7s 4ms/step - loss: 0.0376 - accuracy: 0.9901 - f1_score: 0.9901 - precision: 0.9844 - recall: 0.9747\n",
      "139/139 [==============================] - 1s 1ms/step - loss: 0.0423 - accuracy: 0.9890 - f1_score: 0.9889 - precision: 0.9724 - recall: 0.9823\n",
      "[0.042341429740190506, 0.9889614582061768, 0.9888958930969238, 0.9724010825157166, 0.982342004776001]\n"
     ]
    },
    {
     "data": {
      "image/png": "[encoded data removed]",
      "text/plain": [
       "<Figure size 576x576 with 2 Axes>"
      ]
     },
     "metadata": {
      "needs_background": "light",
      "tags": []
     },
     "output_type": "display_data"
    },
    {
     "data": {
      "image/png": "[encoded data removed]",
      "text/plain": [
       "<Figure size 432x288 with 1 Axes>"
      ]
     },
     "metadata": {
      "needs_background": "light",
      "tags": []
     },
     "output_type": "display_data"
    }
   ],
   "source": [
    "model.add(Dense(32, activation = 'tanh', input_dim = 15))\n",
    "model.add(Dense(32, activation = 'tanh'))\n",
    "model.add(Dense(64, activation = 'tanh'))\n",
    "model.add(Dense(1, activation = 'sigmoid'))\n",
    "\n",
    "model.summary()\n",
    "\n",
    "model.compile(optimizer='adam', loss = 'binary_crossentropy', metrics = ['accuracy',f1_score, Precision(name='precision'), Recall(name='recall')])\n",
    "history = model.fit(X_train, Y_train, batch_size = 10, epochs = 20)\n",
    "\n",
    "model_val = model.evaluate(X_test,Y_test)\n",
    "print(model_val)\n",
    "\n",
    "y_pred = model.predict(X_test)\n",
    "y_pred = (y_pred > 0.5).astype(int)\n",
    "\n",
    "import numpy as np\n",
    "Y_pred = np.argmax(y_pred, axis=1)\n",
    "\n",
    "from sklearn.metrics import confusion_matrix\n",
    "cm = confusion_matrix(Y_test, y_pred)\n",
    "\n",
    "import seaborn as sns\n",
    "Y_pred = model.predict(X_test)\n",
    "Y_pred_classes = np.argmax(Y_pred,axis = 1) \n",
    "Y_true = np.argmax(Y_test) \n",
    "f,ax = plt.subplots(figsize=(8, 8))\n",
    "sns.heatmap(cm, annot=True, linewidths=0.01,cmap=\"Greens\",linecolor=\"gray\", fmt= '.1f',ax=ax)\n",
    "plt.xlabel(\"Predicted Label\")\n",
    "plt.ylabel(\"True Label\")\n",
    "plt.title(\"Confusion Matrix\")\n",
    "plt.show()\n",
    "\n",
    "plt.plot(history.history['loss'])\n",
    "plt.plot(history.history['accuracy'])\n",
    "plt.plot(history.history['f1_score'])\n",
    "plt.plot(history.history['precision'])\n",
    "plt.plot(history.history['recall'])\n",
    "plt.title('Model Train')\n",
    "plt.ylabel('Value')\n",
    "plt.xlabel('epoch')\n",
    "plt.legend(['loss', 'accuracy','f1_score', 'precision', 'recall'], loc='center left')\n",
    "plt.show()"
   ]
  },
  {
   "cell_type": "markdown",
   "metadata": {
    "id": "7tEzCESJZk5u"
   },
   "source": []
  },
  {
   "cell_type": "markdown",
   "metadata": {
    "id": "DteMdDr8Yiec"
   },
   "source": [
    "## 2 hidden layer, activation='tanh'"
   ]
  },
  {
   "cell_type": "code",
   "execution_count": 66,
   "metadata": {
    "colab": {
     "base_uri": "https://localhost:8080/",
     "height": 1000
    },
    "id": "x7FhIIKXYmr8",
    "outputId": "33e36198-5d8e-4048-bb18-94b699fc4897"
   },
   "outputs": [
    {
     "name": "stdout",
     "output_type": "stream",
     "text": [
      "Model: \"sequential_1\"\n",
      "_________________________________________________________________\n",
      "Layer (type)                 Output Shape              Param #   \n",
      "=================================================================\n",
      "dense_2 (Dense)              (None, 32)                512       \n",
      "_________________________________________________________________\n",
      "dense_3 (Dense)              (None, 32)                1056      \n",
      "_________________________________________________________________\n",
      "dense_4 (Dense)              (None, 1)                 33        \n",
      "_________________________________________________________________\n",
      "dense_5 (Dense)              (None, 32)                64        \n",
      "_________________________________________________________________\n",
      "dense_6 (Dense)              (None, 32)                1056      \n",
      "_________________________________________________________________\n",
      "dense_7 (Dense)              (None, 64)                2112      \n",
      "_________________________________________________________________\n",
      "dense_8 (Dense)              (None, 1)                 65        \n",
      "_________________________________________________________________\n",
      "dense_9 (Dense)              (None, 32)                64        \n",
      "_________________________________________________________________\n",
      "dense_10 (Dense)             (None, 32)                1056      \n",
      "_________________________________________________________________\n",
      "dense_11 (Dense)             (None, 64)                2112      \n",
      "_________________________________________________________________\n",
      "dense_12 (Dense)             (None, 128)               8320      \n",
      "_________________________________________________________________\n",
      "dense_13 (Dense)             (None, 1)                 129       \n",
      "_________________________________________________________________\n",
      "dense_14 (Dense)             (None, 32)                64        \n",
      "_________________________________________________________________\n",
      "dense_15 (Dense)             (None, 32)                1056      \n",
      "_________________________________________________________________\n",
      "dense_16 (Dense)             (None, 64)                2112      \n",
      "_________________________________________________________________\n",
      "dense_17 (Dense)             (None, 128)               8320      \n",
      "_________________________________________________________________\n",
      "dense_18 (Dense)             (None, 1)                 129       \n",
      "_________________________________________________________________\n",
      "dense_19 (Dense)             (None, 32)                64        \n",
      "_________________________________________________________________\n",
      "dense_20 (Dense)             (None, 32)                1056      \n",
      "_________________________________________________________________\n",
      "dense_21 (Dense)             (None, 64)                2112      \n",
      "_________________________________________________________________\n",
      "dense_22 (Dense)             (None, 128)               8320      \n",
      "_________________________________________________________________\n",
      "dense_23 (Dense)             (None, 1)                 129       \n",
      "_________________________________________________________________\n",
      "dense_24 (Dense)             (None, 32)                64        \n",
      "_________________________________________________________________\n",
      "dense_25 (Dense)             (None, 32)                1056      \n",
      "_________________________________________________________________\n",
      "dense_26 (Dense)             (None, 64)                2112      \n",
      "_________________________________________________________________\n",
      "dense_27 (Dense)             (None, 1)                 65        \n",
      "_________________________________________________________________\n",
      "dense_28 (Dense)             (None, 32)                64        \n",
      "_________________________________________________________________\n",
      "dense_29 (Dense)             (None, 32)                1056      \n",
      "_________________________________________________________________\n",
      "dense_30 (Dense)             (None, 1)                 33        \n",
      "=================================================================\n",
      "Total params: 44,391\n",
      "Trainable params: 44,391\n",
      "Non-trainable params: 0\n",
      "_________________________________________________________________\n",
      "Epoch 1/20\n",
      "1776/1776 [==============================] - 9s 4ms/step - loss: 0.1176 - accuracy: 0.9864 - f1_score: 0.9864 - precision: 0.9624 - recall: 0.9837\n",
      "Epoch 2/20\n",
      "1776/1776 [==============================] - 7s 4ms/step - loss: 0.0398 - accuracy: 0.9934 - f1_score: 0.9934 - precision: 0.9889 - recall: 0.9842\n",
      "Epoch 3/20\n",
      "1776/1776 [==============================] - 7s 4ms/step - loss: 0.0447 - accuracy: 0.9924 - f1_score: 0.9924 - precision: 0.9943 - recall: 0.9748\n",
      "Epoch 4/20\n",
      "1776/1776 [==============================] - 7s 4ms/step - loss: 0.0515 - accuracy: 0.9911 - f1_score: 0.9911 - precision: 0.9928 - recall: 0.9698\n",
      "Epoch 5/20\n",
      "1776/1776 [==============================] - 7s 4ms/step - loss: 0.0493 - accuracy: 0.9915 - f1_score: 0.9915 - precision: 0.9936 - recall: 0.9712\n",
      "Epoch 6/20\n",
      "1776/1776 [==============================] - 7s 4ms/step - loss: 0.0521 - accuracy: 0.9910 - f1_score: 0.9910 - precision: 0.9916 - recall: 0.9725\n",
      "Epoch 7/20\n",
      "1776/1776 [==============================] - 7s 4ms/step - loss: 0.0498 - accuracy: 0.9915 - f1_score: 0.9915 - precision: 0.9931 - recall: 0.9715\n",
      "Epoch 8/20\n",
      "1776/1776 [==============================] - 7s 4ms/step - loss: 0.0484 - accuracy: 0.9917 - f1_score: 0.9917 - precision: 0.9929 - recall: 0.9726\n",
      "Epoch 9/20\n",
      "1776/1776 [==============================] - 7s 4ms/step - loss: 0.0529 - accuracy: 0.9908 - f1_score: 0.9908 - precision: 0.9930 - recall: 0.9687\n",
      "Epoch 10/20\n",
      "1776/1776 [==============================] - 7s 4ms/step - loss: 0.0442 - accuracy: 0.9926 - f1_score: 0.9926 - precision: 0.9949 - recall: 0.9740\n",
      "Epoch 11/20\n",
      "1776/1776 [==============================] - 7s 4ms/step - loss: 0.0554 - accuracy: 0.9902 - f1_score: 0.9902 - precision: 0.9929 - recall: 0.9673\n",
      "Epoch 12/20\n",
      "1776/1776 [==============================] - 7s 4ms/step - loss: 0.0480 - accuracy: 0.9918 - f1_score: 0.9918 - precision: 0.9926 - recall: 0.9730\n",
      "Epoch 13/20\n",
      "1776/1776 [==============================] - 7s 4ms/step - loss: 0.0490 - accuracy: 0.9916 - f1_score: 0.9916 - precision: 0.9929 - recall: 0.9722\n",
      "Epoch 14/20\n",
      "1776/1776 [==============================] - 7s 4ms/step - loss: 0.0485 - accuracy: 0.9917 - f1_score: 0.9917 - precision: 0.9934 - recall: 0.9718\n",
      "Epoch 15/20\n",
      "1776/1776 [==============================] - 7s 4ms/step - loss: 0.0457 - accuracy: 0.9922 - f1_score: 0.9922 - precision: 0.9927 - recall: 0.9749\n",
      "Epoch 16/20\n",
      "1776/1776 [==============================] - 7s 4ms/step - loss: 0.0501 - accuracy: 0.9913 - f1_score: 0.9913 - precision: 0.9913 - recall: 0.9724\n",
      "Epoch 17/20\n",
      "1776/1776 [==============================] - 7s 4ms/step - loss: 0.0499 - accuracy: 0.9914 - f1_score: 0.9914 - precision: 0.9909 - recall: 0.9740\n",
      "Epoch 18/20\n",
      "1776/1776 [==============================] - 7s 4ms/step - loss: 0.0444 - accuracy: 0.9925 - f1_score: 0.9925 - precision: 0.9957 - recall: 0.9732\n",
      "Epoch 19/20\n",
      "1776/1776 [==============================] - 7s 4ms/step - loss: 0.0435 - accuracy: 0.9927 - f1_score: 0.9927 - precision: 0.9942 - recall: 0.9756\n",
      "Epoch 20/20\n",
      "1776/1776 [==============================] - 7s 4ms/step - loss: 0.0525 - accuracy: 0.9908 - f1_score: 0.9908 - precision: 0.9923 - recall: 0.9704\n",
      "139/139 [==============================] - 1s 2ms/step - loss: 0.0499 - accuracy: 0.9914 - f1_score: 0.9913 - precision: 0.9905 - recall: 0.9740\n",
      "[0.04985747113823891, 0.9914395213127136, 0.9912808537483215, 0.9905481934547424, 0.9739776849746704]\n"
     ]
    },
    {
     "data": {
      "image/png": "[encoded data removed]",
      "text/plain": [
       "<Figure size 576x576 with 2 Axes>"
      ]
     },
     "metadata": {
      "needs_background": "light",
      "tags": []
     },
     "output_type": "display_data"
    },
    {
     "data": {
      "image/png": "[encoded data removed]",
      "text/plain": [
       "<Figure size 432x288 with 1 Axes>"
      ]
     },
     "metadata": {
      "needs_background": "light",
      "tags": []
     },
     "output_type": "display_data"
    }
   ],
   "source": [
    "model.add(Dense(32, activation = 'tanh', input_dim = 15))\n",
    "model.add(Dense(32, activation = 'tanh'))\n",
    "model.add(Dense(1, activation = 'sigmoid'))\n",
    "\n",
    "model.summary()\n",
    "\n",
    "model.compile(optimizer='adam', loss = 'binary_crossentropy', metrics = ['accuracy',f1_score, Precision(name='precision'), Recall(name='recall')])\n",
    "history = model.fit(X_train, Y_train, batch_size = 10, epochs = 20)\n",
    "\n",
    "model_val = model.evaluate(X_test,Y_test)\n",
    "print(model_val)\n",
    "\n",
    "y_pred = model.predict(X_test)\n",
    "y_pred = (y_pred > 0.5).astype(int)\n",
    "\n",
    "import numpy as np\n",
    "Y_pred = np.argmax(y_pred, axis=1)\n",
    "\n",
    "from sklearn.metrics import confusion_matrix\n",
    "cm = confusion_matrix(Y_test, y_pred)\n",
    "\n",
    "import seaborn as sns\n",
    "Y_pred = model.predict(X_test)\n",
    "Y_pred_classes = np.argmax(Y_pred,axis = 1) \n",
    "Y_true = np.argmax(Y_test) \n",
    "f,ax = plt.subplots(figsize=(8, 8))\n",
    "sns.heatmap(cm, annot=True, linewidths=0.01,cmap=\"Greens\",linecolor=\"gray\", fmt= '.1f',ax=ax)\n",
    "plt.xlabel(\"Predicted Label\")\n",
    "plt.ylabel(\"True Label\")\n",
    "plt.title(\"Confusion Matrix\")\n",
    "plt.show()\n",
    "\n",
    "plt.plot(history.history['loss'])\n",
    "plt.plot(history.history['accuracy'])\n",
    "plt.plot(history.history['f1_score'])\n",
    "plt.plot(history.history['precision'])\n",
    "plt.plot(history.history['recall'])\n",
    "plt.title('Model Train')\n",
    "plt.ylabel('Value')\n",
    "plt.xlabel('epoch')\n",
    "plt.legend(['loss', 'accuracy','f1_score', 'precision', 'recall'], loc='center left')\n",
    "plt.show()"
   ]
  },
  {
   "cell_type": "markdown",
   "metadata": {
    "id": "FfYg6ROxZmfo"
   },
   "source": [
    "## 1 hidden layer, activation ='tanh'"
   ]
  },
  {
   "cell_type": "code",
   "execution_count": 67,
   "metadata": {
    "colab": {
     "base_uri": "https://localhost:8080/",
     "height": 1000
    },
    "id": "bZy-OZXIZpne",
    "outputId": "24ff1fcc-23c0-4d52-ef0a-2d3c8ee3c591"
   },
   "outputs": [
    {
     "name": "stdout",
     "output_type": "stream",
     "text": [
      "Model: \"sequential_1\"\n",
      "_________________________________________________________________\n",
      "Layer (type)                 Output Shape              Param #   \n",
      "=================================================================\n",
      "dense_2 (Dense)              (None, 32)                512       \n",
      "_________________________________________________________________\n",
      "dense_3 (Dense)              (None, 32)                1056      \n",
      "_________________________________________________________________\n",
      "dense_4 (Dense)              (None, 1)                 33        \n",
      "_________________________________________________________________\n",
      "dense_5 (Dense)              (None, 32)                64        \n",
      "_________________________________________________________________\n",
      "dense_6 (Dense)              (None, 32)                1056      \n",
      "_________________________________________________________________\n",
      "dense_7 (Dense)              (None, 64)                2112      \n",
      "_________________________________________________________________\n",
      "dense_8 (Dense)              (None, 1)                 65        \n",
      "_________________________________________________________________\n",
      "dense_9 (Dense)              (None, 32)                64        \n",
      "_________________________________________________________________\n",
      "dense_10 (Dense)             (None, 32)                1056      \n",
      "_________________________________________________________________\n",
      "dense_11 (Dense)             (None, 64)                2112      \n",
      "_________________________________________________________________\n",
      "dense_12 (Dense)             (None, 128)               8320      \n",
      "_________________________________________________________________\n",
      "dense_13 (Dense)             (None, 1)                 129       \n",
      "_________________________________________________________________\n",
      "dense_14 (Dense)             (None, 32)                64        \n",
      "_________________________________________________________________\n",
      "dense_15 (Dense)             (None, 32)                1056      \n",
      "_________________________________________________________________\n",
      "dense_16 (Dense)             (None, 64)                2112      \n",
      "_________________________________________________________________\n",
      "dense_17 (Dense)             (None, 128)               8320      \n",
      "_________________________________________________________________\n",
      "dense_18 (Dense)             (None, 1)                 129       \n",
      "_________________________________________________________________\n",
      "dense_19 (Dense)             (None, 32)                64        \n",
      "_________________________________________________________________\n",
      "dense_20 (Dense)             (None, 32)                1056      \n",
      "_________________________________________________________________\n",
      "dense_21 (Dense)             (None, 64)                2112      \n",
      "_________________________________________________________________\n",
      "dense_22 (Dense)             (None, 128)               8320      \n",
      "_________________________________________________________________\n",
      "dense_23 (Dense)             (None, 1)                 129       \n",
      "_________________________________________________________________\n",
      "dense_24 (Dense)             (None, 32)                64        \n",
      "_________________________________________________________________\n",
      "dense_25 (Dense)             (None, 32)                1056      \n",
      "_________________________________________________________________\n",
      "dense_26 (Dense)             (None, 64)                2112      \n",
      "_________________________________________________________________\n",
      "dense_27 (Dense)             (None, 1)                 65        \n",
      "_________________________________________________________________\n",
      "dense_28 (Dense)             (None, 32)                64        \n",
      "_________________________________________________________________\n",
      "dense_29 (Dense)             (None, 32)                1056      \n",
      "_________________________________________________________________\n",
      "dense_30 (Dense)             (None, 1)                 33        \n",
      "_________________________________________________________________\n",
      "dense_31 (Dense)             (None, 32)                64        \n",
      "_________________________________________________________________\n",
      "dense_32 (Dense)             (None, 1)                 33        \n",
      "=================================================================\n",
      "Total params: 44,488\n",
      "Trainable params: 44,488\n",
      "Non-trainable params: 0\n",
      "_________________________________________________________________\n",
      "Epoch 1/20\n",
      "1776/1776 [==============================] - 10s 4ms/step - loss: 0.2052 - accuracy: 0.9870 - f1_score: 0.9870 - precision: 0.9786 - recall: 0.9703\n",
      "Epoch 2/20\n",
      "1776/1776 [==============================] - 7s 4ms/step - loss: 0.0483 - accuracy: 0.9917 - f1_score: 0.9917 - precision: 0.9922 - recall: 0.9733\n",
      "Epoch 3/20\n",
      "1776/1776 [==============================] - 7s 4ms/step - loss: 0.0436 - accuracy: 0.9926 - f1_score: 0.9926 - precision: 0.9939 - recall: 0.9761\n",
      "Epoch 4/20\n",
      "1776/1776 [==============================] - 7s 4ms/step - loss: 0.0492 - accuracy: 0.9915 - f1_score: 0.9915 - precision: 0.9942 - recall: 0.9705\n",
      "Epoch 5/20\n",
      "1776/1776 [==============================] - 7s 4ms/step - loss: 0.0439 - accuracy: 0.9926 - f1_score: 0.9926 - precision: 0.9928 - recall: 0.9767\n",
      "Epoch 6/20\n",
      "1776/1776 [==============================] - 7s 4ms/step - loss: 0.0535 - accuracy: 0.9906 - f1_score: 0.9906 - precision: 0.9920 - recall: 0.9700\n",
      "Epoch 7/20\n",
      "1776/1776 [==============================] - 7s 4ms/step - loss: 0.0523 - accuracy: 0.9909 - f1_score: 0.9909 - precision: 0.9931 - recall: 0.9692\n",
      "Epoch 8/20\n",
      "1776/1776 [==============================] - 8s 4ms/step - loss: 0.0456 - accuracy: 0.9923 - f1_score: 0.9923 - precision: 0.9943 - recall: 0.9739\n",
      "Epoch 9/20\n",
      "1776/1776 [==============================] - 7s 4ms/step - loss: 0.0482 - accuracy: 0.9917 - f1_score: 0.9917 - precision: 0.9945 - recall: 0.9713\n",
      "Epoch 10/20\n",
      "1776/1776 [==============================] - 7s 4ms/step - loss: 0.0486 - accuracy: 0.9916 - f1_score: 0.9916 - precision: 0.9937 - recall: 0.9709\n",
      "Epoch 11/20\n",
      "1776/1776 [==============================] - 7s 4ms/step - loss: 0.0512 - accuracy: 0.9911 - f1_score: 0.9911 - precision: 0.9928 - recall: 0.9698\n",
      "Epoch 12/20\n",
      "1776/1776 [==============================] - 7s 4ms/step - loss: 0.0477 - accuracy: 0.9918 - f1_score: 0.9918 - precision: 0.9946 - recall: 0.9715\n",
      "Epoch 13/20\n",
      "1776/1776 [==============================] - 7s 4ms/step - loss: 0.0465 - accuracy: 0.9921 - f1_score: 0.9921 - precision: 0.9930 - recall: 0.9730\n",
      "Epoch 14/20\n",
      "1776/1776 [==============================] - 7s 4ms/step - loss: 0.0535 - accuracy: 0.9906 - f1_score: 0.9906 - precision: 0.9915 - recall: 0.9699\n",
      "Epoch 15/20\n",
      "1776/1776 [==============================] - 7s 4ms/step - loss: 0.0480 - accuracy: 0.9918 - f1_score: 0.9918 - precision: 0.9945 - recall: 0.9707\n",
      "Epoch 16/20\n",
      "1776/1776 [==============================] - 7s 4ms/step - loss: 0.0482 - accuracy: 0.9917 - f1_score: 0.9917 - precision: 0.9927 - recall: 0.9730\n",
      "Epoch 17/20\n",
      "1776/1776 [==============================] - 7s 4ms/step - loss: 0.0475 - accuracy: 0.9919 - f1_score: 0.9919 - precision: 0.9934 - recall: 0.9731\n",
      "Epoch 18/20\n",
      "1776/1776 [==============================] - 7s 4ms/step - loss: 0.0512 - accuracy: 0.9911 - f1_score: 0.9911 - precision: 0.9929 - recall: 0.9706\n",
      "Epoch 19/20\n",
      "1776/1776 [==============================] - 7s 4ms/step - loss: 0.0540 - accuracy: 0.9905 - f1_score: 0.9905 - precision: 0.9908 - recall: 0.9700\n",
      "Epoch 20/20\n",
      "1776/1776 [==============================] - 7s 4ms/step - loss: 0.0531 - accuracy: 0.9907 - f1_score: 0.9907 - precision: 0.9922 - recall: 0.9695\n",
      "139/139 [==============================] - 1s 2ms/step - loss: 0.0498 - accuracy: 0.9914 - f1_score: 0.9913 - precision: 0.9905 - recall: 0.9740\n",
      "[0.04975526034832001, 0.9914395213127136, 0.9912808537483215, 0.9905481934547424, 0.9739776849746704]\n"
     ]
    },
    {
     "data": {
      "image/png": "[encoded data removed]",
      "text/plain": [
       "<Figure size 576x576 with 2 Axes>"
      ]
     },
     "metadata": {
      "needs_background": "light",
      "tags": []
     },
     "output_type": "display_data"
    },
    {
     "data": {
      "image/png": "[encoded data removed]",
      "text/plain": [
       "<Figure size 432x288 with 1 Axes>"
      ]
     },
     "metadata": {
      "needs_background": "light",
      "tags": []
     },
     "output_type": "display_data"
    }
   ],
   "source": [
    "model.add(Dense(32, activation = 'tanh', input_dim = 15))\n",
    "model.add(Dense(1, activation = 'sigmoid'))\n",
    "\n",
    "model.summary()\n",
    "\n",
    "model.compile(optimizer='adam', loss = 'binary_crossentropy', metrics = ['accuracy',f1_score, Precision(name='precision'), Recall(name='recall')])\n",
    "history = model.fit(X_train, Y_train, batch_size = 10, epochs = 20)\n",
    "\n",
    "model_val = model.evaluate(X_test,Y_test)\n",
    "print(model_val)\n",
    "\n",
    "y_pred = model.predict(X_test)\n",
    "y_pred = (y_pred > 0.5).astype(int)\n",
    "\n",
    "import numpy as np\n",
    "Y_pred = np.argmax(y_pred, axis=1)\n",
    "\n",
    "from sklearn.metrics import confusion_matrix\n",
    "cm = confusion_matrix(Y_test, y_pred)\n",
    "\n",
    "import seaborn as sns\n",
    "Y_pred = model.predict(X_test)\n",
    "Y_pred_classes = np.argmax(Y_pred,axis = 1) \n",
    "Y_true = np.argmax(Y_test) \n",
    "f,ax = plt.subplots(figsize=(8, 8))\n",
    "sns.heatmap(cm, annot=True, linewidths=0.01,cmap=\"Greens\",linecolor=\"gray\", fmt= '.1f',ax=ax)\n",
    "plt.xlabel(\"Predicted Label\")\n",
    "plt.ylabel(\"True Label\")\n",
    "plt.title(\"Confusion Matrix\")\n",
    "plt.show()\n",
    "\n",
    "plt.plot(history.history['loss'])\n",
    "plt.plot(history.history['accuracy'])\n",
    "plt.plot(history.history['f1_score'])\n",
    "plt.plot(history.history['precision'])\n",
    "plt.plot(history.history['recall'])\n",
    "plt.title('Model Train')\n",
    "plt.ylabel('Value')\n",
    "plt.xlabel('epoch')\n",
    "plt.legend(['loss', 'accuracy','f1_score', 'precision', 'recall'], loc='center left')\n",
    "plt.show()"
   ]
  },
  {
   "cell_type": "markdown",
   "metadata": {
    "id": "HtJOge6KaXvd"
   },
   "source": [
    "## 1 hidden layer, activation='softmax'"
   ]
  },
  {
   "cell_type": "code",
   "execution_count": 68,
   "metadata": {
    "colab": {
     "base_uri": "https://localhost:8080/",
     "height": 1000
    },
    "id": "EXP7kd6FabWP",
    "outputId": "38c60a16-4f83-4d17-c5b9-5a5113eca3c4"
   },
   "outputs": [
    {
     "name": "stdout",
     "output_type": "stream",
     "text": [
      "Model: \"sequential_1\"\n",
      "_________________________________________________________________\n",
      "Layer (type)                 Output Shape              Param #   \n",
      "=================================================================\n",
      "dense_2 (Dense)              (None, 32)                512       \n",
      "_________________________________________________________________\n",
      "dense_3 (Dense)              (None, 32)                1056      \n",
      "_________________________________________________________________\n",
      "dense_4 (Dense)              (None, 1)                 33        \n",
      "_________________________________________________________________\n",
      "dense_5 (Dense)              (None, 32)                64        \n",
      "_________________________________________________________________\n",
      "dense_6 (Dense)              (None, 32)                1056      \n",
      "_________________________________________________________________\n",
      "dense_7 (Dense)              (None, 64)                2112      \n",
      "_________________________________________________________________\n",
      "dense_8 (Dense)              (None, 1)                 65        \n",
      "_________________________________________________________________\n",
      "dense_9 (Dense)              (None, 32)                64        \n",
      "_________________________________________________________________\n",
      "dense_10 (Dense)             (None, 32)                1056      \n",
      "_________________________________________________________________\n",
      "dense_11 (Dense)             (None, 64)                2112      \n",
      "_________________________________________________________________\n",
      "dense_12 (Dense)             (None, 128)               8320      \n",
      "_________________________________________________________________\n",
      "dense_13 (Dense)             (None, 1)                 129       \n",
      "_________________________________________________________________\n",
      "dense_14 (Dense)             (None, 32)                64        \n",
      "_________________________________________________________________\n",
      "dense_15 (Dense)             (None, 32)                1056      \n",
      "_________________________________________________________________\n",
      "dense_16 (Dense)             (None, 64)                2112      \n",
      "_________________________________________________________________\n",
      "dense_17 (Dense)             (None, 128)               8320      \n",
      "_________________________________________________________________\n",
      "dense_18 (Dense)             (None, 1)                 129       \n",
      "_________________________________________________________________\n",
      "dense_19 (Dense)             (None, 32)                64        \n",
      "_________________________________________________________________\n",
      "dense_20 (Dense)             (None, 32)                1056      \n",
      "_________________________________________________________________\n",
      "dense_21 (Dense)             (None, 64)                2112      \n",
      "_________________________________________________________________\n",
      "dense_22 (Dense)             (None, 128)               8320      \n",
      "_________________________________________________________________\n",
      "dense_23 (Dense)             (None, 1)                 129       \n",
      "_________________________________________________________________\n",
      "dense_24 (Dense)             (None, 32)                64        \n",
      "_________________________________________________________________\n",
      "dense_25 (Dense)             (None, 32)                1056      \n",
      "_________________________________________________________________\n",
      "dense_26 (Dense)             (None, 64)                2112      \n",
      "_________________________________________________________________\n",
      "dense_27 (Dense)             (None, 1)                 65        \n",
      "_________________________________________________________________\n",
      "dense_28 (Dense)             (None, 32)                64        \n",
      "_________________________________________________________________\n",
      "dense_29 (Dense)             (None, 32)                1056      \n",
      "_________________________________________________________________\n",
      "dense_30 (Dense)             (None, 1)                 33        \n",
      "_________________________________________________________________\n",
      "dense_31 (Dense)             (None, 32)                64        \n",
      "_________________________________________________________________\n",
      "dense_32 (Dense)             (None, 1)                 33        \n",
      "_________________________________________________________________\n",
      "dense_33 (Dense)             (None, 32)                64        \n",
      "_________________________________________________________________\n",
      "dense_34 (Dense)             (None, 1)                 33        \n",
      "=================================================================\n",
      "Total params: 44,585\n",
      "Trainable params: 44,585\n",
      "Non-trainable params: 0\n",
      "_________________________________________________________________\n",
      "Epoch 1/20\n",
      "1776/1776 [==============================] - 9s 4ms/step - loss: 0.5639 - accuracy: 0.7484 - f1_score: 0.7484 - precision: 0.3326 - recall: 0.0515\n",
      "Epoch 2/20\n",
      "1776/1776 [==============================] - 7s 4ms/step - loss: 0.1553 - accuracy: 0.9925 - f1_score: 0.9925 - precision: 0.9946 - recall: 0.9749\n",
      "Epoch 3/20\n",
      "1776/1776 [==============================] - 7s 4ms/step - loss: 0.0661 - accuracy: 0.9921 - f1_score: 0.9921 - precision: 0.9927 - recall: 0.9739\n",
      "Epoch 4/20\n",
      "1776/1776 [==============================] - 8s 4ms/step - loss: 0.0545 - accuracy: 0.9915 - f1_score: 0.9915 - precision: 0.9951 - recall: 0.9707\n",
      "Epoch 5/20\n",
      "1776/1776 [==============================] - 8s 4ms/step - loss: 0.0489 - accuracy: 0.9919 - f1_score: 0.9919 - precision: 0.9919 - recall: 0.9740\n",
      "Epoch 6/20\n",
      "1776/1776 [==============================] - 8s 4ms/step - loss: 0.0462 - accuracy: 0.9923 - f1_score: 0.9923 - precision: 0.9942 - recall: 0.9746\n",
      "Epoch 7/20\n",
      "1776/1776 [==============================] - 8s 4ms/step - loss: 0.0570 - accuracy: 0.9898 - f1_score: 0.9898 - precision: 0.9908 - recall: 0.9688\n",
      "Epoch 8/20\n",
      "1776/1776 [==============================] - 8s 4ms/step - loss: 0.0537 - accuracy: 0.9905 - f1_score: 0.9905 - precision: 0.9924 - recall: 0.9685\n",
      "Epoch 9/20\n",
      "1776/1776 [==============================] - 8s 4ms/step - loss: 0.0473 - accuracy: 0.9919 - f1_score: 0.9919 - precision: 0.9930 - recall: 0.9734\n",
      "Epoch 10/20\n",
      "1776/1776 [==============================] - 8s 4ms/step - loss: 0.0506 - accuracy: 0.9912 - f1_score: 0.9912 - precision: 0.9913 - recall: 0.9719\n",
      "Epoch 11/20\n",
      "1776/1776 [==============================] - 8s 4ms/step - loss: 0.0496 - accuracy: 0.9914 - f1_score: 0.9914 - precision: 0.9921 - recall: 0.9719\n",
      "Epoch 12/20\n",
      "1776/1776 [==============================] - 8s 4ms/step - loss: 0.0461 - accuracy: 0.9921 - f1_score: 0.9921 - precision: 0.9936 - recall: 0.9739\n",
      "Epoch 13/20\n",
      "1776/1776 [==============================] - 8s 4ms/step - loss: 0.0487 - accuracy: 0.9916 - f1_score: 0.9916 - precision: 0.9926 - recall: 0.9725\n",
      "Epoch 14/20\n",
      "1776/1776 [==============================] - 8s 4ms/step - loss: 0.0465 - accuracy: 0.9920 - f1_score: 0.9920 - precision: 0.9935 - recall: 0.9737\n",
      "Epoch 15/20\n",
      "1776/1776 [==============================] - 8s 4ms/step - loss: 0.0531 - accuracy: 0.9907 - f1_score: 0.9907 - precision: 0.9895 - recall: 0.9721\n",
      "Epoch 16/20\n",
      "1776/1776 [==============================] - 8s 4ms/step - loss: 0.0501 - accuracy: 0.9913 - f1_score: 0.9913 - precision: 0.9924 - recall: 0.9713\n",
      "Epoch 17/20\n",
      "1776/1776 [==============================] - 8s 4ms/step - loss: 0.0437 - accuracy: 0.9926 - f1_score: 0.9926 - precision: 0.9940 - recall: 0.9750\n",
      "Epoch 18/20\n",
      "1776/1776 [==============================] - 8s 4ms/step - loss: 0.0466 - accuracy: 0.9920 - f1_score: 0.9920 - precision: 0.9940 - recall: 0.9732\n",
      "Epoch 19/20\n",
      "1776/1776 [==============================] - 8s 4ms/step - loss: 0.0449 - accuracy: 0.9924 - f1_score: 0.9924 - precision: 0.9925 - recall: 0.9762\n",
      "Epoch 20/20\n",
      "1776/1776 [==============================] - 8s 4ms/step - loss: 0.0485 - accuracy: 0.9916 - f1_score: 0.9916 - precision: 0.9943 - recall: 0.9706\n",
      "139/139 [==============================] - 1s 2ms/step - loss: 0.0494 - accuracy: 0.9914 - f1_score: 0.9913 - precision: 0.9905 - recall: 0.9740\n",
      "[0.0493849441409111, 0.9914395213127136, 0.9912808537483215, 0.9905481934547424, 0.9739776849746704]\n"
     ]
    },
    {
     "data": {
      "image/png": "[encoded data removed]",
      "text/plain": [
       "<Figure size 576x576 with 2 Axes>"
      ]
     },
     "metadata": {
      "needs_background": "light",
      "tags": []
     },
     "output_type": "display_data"
    },
    {
     "data": {
      "image/png": "[encoded data removed]",
      "text/plain": [
       "<Figure size 432x288 with 1 Axes>"
      ]
     },
     "metadata": {
      "needs_background": "light",
      "tags": []
     },
     "output_type": "display_data"
    }
   ],
   "source": [
    "model.add(Dense(32, activation = 'softmax', input_dim = 15))\n",
    "model.add(Dense(1, activation = 'sigmoid'))\n",
    "\n",
    "model.summary()\n",
    "\n",
    "model.compile(optimizer='adam', loss = 'binary_crossentropy', metrics = ['accuracy',f1_score, Precision(name='precision'), Recall(name='recall')])\n",
    "history = model.fit(X_train, Y_train, batch_size = 10, epochs = 20)\n",
    "\n",
    "model_val = model.evaluate(X_test,Y_test)\n",
    "print(model_val)\n",
    "\n",
    "y_pred = model.predict(X_test)\n",
    "y_pred = (y_pred > 0.5).astype(int)\n",
    "\n",
    "import numpy as np\n",
    "Y_pred = np.argmax(y_pred, axis=1)\n",
    "\n",
    "from sklearn.metrics import confusion_matrix\n",
    "cm = confusion_matrix(Y_test, y_pred)\n",
    "\n",
    "import seaborn as sns\n",
    "Y_pred = model.predict(X_test)\n",
    "Y_pred_classes = np.argmax(Y_pred,axis = 1) \n",
    "Y_true = np.argmax(Y_test) \n",
    "f,ax = plt.subplots(figsize=(8, 8))\n",
    "sns.heatmap(cm, annot=True, linewidths=0.01,cmap=\"Greens\",linecolor=\"gray\", fmt= '.1f',ax=ax)\n",
    "plt.xlabel(\"Predicted Label\")\n",
    "plt.ylabel(\"True Label\")\n",
    "plt.title(\"Confusion Matrix\")\n",
    "plt.show()\n",
    "\n",
    "plt.plot(history.history['loss'])\n",
    "plt.plot(history.history['accuracy'])\n",
    "plt.plot(history.history['f1_score'])\n",
    "plt.plot(history.history['precision'])\n",
    "plt.plot(history.history['recall'])\n",
    "plt.title('Model Train')\n",
    "plt.ylabel('Value')\n",
    "plt.xlabel('epoch')\n",
    "plt.legend(['loss', 'accuracy','f1_score', 'precision', 'recall'], loc='center left')\n",
    "plt.show()"
   ]
  },
  {
   "cell_type": "markdown",
   "metadata": {
    "id": "HXo4dA7HbXXk"
   },
   "source": [
    "## 2 hidden layer, activation='softmax'"
   ]
  },
  {
   "cell_type": "code",
   "execution_count": 69,
   "metadata": {
    "colab": {
     "base_uri": "https://localhost:8080/",
     "height": 1000
    },
    "id": "Vby5014xbbF6",
    "outputId": "7301555e-6d66-4a4b-dc80-fd5476c5b1a4"
   },
   "outputs": [
    {
     "name": "stdout",
     "output_type": "stream",
     "text": [
      "Model: \"sequential_1\"\n",
      "_________________________________________________________________\n",
      "Layer (type)                 Output Shape              Param #   \n",
      "=================================================================\n",
      "dense_2 (Dense)              (None, 32)                512       \n",
      "_________________________________________________________________\n",
      "dense_3 (Dense)              (None, 32)                1056      \n",
      "_________________________________________________________________\n",
      "dense_4 (Dense)              (None, 1)                 33        \n",
      "_________________________________________________________________\n",
      "dense_5 (Dense)              (None, 32)                64        \n",
      "_________________________________________________________________\n",
      "dense_6 (Dense)              (None, 32)                1056      \n",
      "_________________________________________________________________\n",
      "dense_7 (Dense)              (None, 64)                2112      \n",
      "_________________________________________________________________\n",
      "dense_8 (Dense)              (None, 1)                 65        \n",
      "_________________________________________________________________\n",
      "dense_9 (Dense)              (None, 32)                64        \n",
      "_________________________________________________________________\n",
      "dense_10 (Dense)             (None, 32)                1056      \n",
      "_________________________________________________________________\n",
      "dense_11 (Dense)             (None, 64)                2112      \n",
      "_________________________________________________________________\n",
      "dense_12 (Dense)             (None, 128)               8320      \n",
      "_________________________________________________________________\n",
      "dense_13 (Dense)             (None, 1)                 129       \n",
      "_________________________________________________________________\n",
      "dense_14 (Dense)             (None, 32)                64        \n",
      "_________________________________________________________________\n",
      "dense_15 (Dense)             (None, 32)                1056      \n",
      "_________________________________________________________________\n",
      "dense_16 (Dense)             (None, 64)                2112      \n",
      "_________________________________________________________________\n",
      "dense_17 (Dense)             (None, 128)               8320      \n",
      "_________________________________________________________________\n",
      "dense_18 (Dense)             (None, 1)                 129       \n",
      "_________________________________________________________________\n",
      "dense_19 (Dense)             (None, 32)                64        \n",
      "_________________________________________________________________\n",
      "dense_20 (Dense)             (None, 32)                1056      \n",
      "_________________________________________________________________\n",
      "dense_21 (Dense)             (None, 64)                2112      \n",
      "_________________________________________________________________\n",
      "dense_22 (Dense)             (None, 128)               8320      \n",
      "_________________________________________________________________\n",
      "dense_23 (Dense)             (None, 1)                 129       \n",
      "_________________________________________________________________\n",
      "dense_24 (Dense)             (None, 32)                64        \n",
      "_________________________________________________________________\n",
      "dense_25 (Dense)             (None, 32)                1056      \n",
      "_________________________________________________________________\n",
      "dense_26 (Dense)             (None, 64)                2112      \n",
      "_________________________________________________________________\n",
      "dense_27 (Dense)             (None, 1)                 65        \n",
      "_________________________________________________________________\n",
      "dense_28 (Dense)             (None, 32)                64        \n",
      "_________________________________________________________________\n",
      "dense_29 (Dense)             (None, 32)                1056      \n",
      "_________________________________________________________________\n",
      "dense_30 (Dense)             (None, 1)                 33        \n",
      "_________________________________________________________________\n",
      "dense_31 (Dense)             (None, 32)                64        \n",
      "_________________________________________________________________\n",
      "dense_32 (Dense)             (None, 1)                 33        \n",
      "_________________________________________________________________\n",
      "dense_33 (Dense)             (None, 32)                64        \n",
      "_________________________________________________________________\n",
      "dense_34 (Dense)             (None, 1)                 33        \n",
      "_________________________________________________________________\n",
      "dense_35 (Dense)             (None, 32)                64        \n",
      "_________________________________________________________________\n",
      "dense_36 (Dense)             (None, 32)                1056      \n",
      "_________________________________________________________________\n",
      "dense_37 (Dense)             (None, 1)                 33        \n",
      "=================================================================\n",
      "Total params: 45,738\n",
      "Trainable params: 45,738\n",
      "Non-trainable params: 0\n",
      "_________________________________________________________________\n",
      "Epoch 1/10\n",
      "1776/1776 [==============================] - 10s 5ms/step - loss: 0.5656 - accuracy: 0.7574 - f1_score: 0.7574 - precision: 0.2235 - recall: 0.0267\n",
      "Epoch 2/10\n",
      "1776/1776 [==============================] - 8s 4ms/step - loss: 0.1338 - accuracy: 0.9917 - f1_score: 0.9917 - precision: 0.9925 - recall: 0.9732\n",
      "Epoch 3/10\n",
      "1776/1776 [==============================] - 8s 4ms/step - loss: 0.0603 - accuracy: 0.9913 - f1_score: 0.9913 - precision: 0.9904 - recall: 0.9735\n",
      "Epoch 4/10\n",
      "1776/1776 [==============================] - 8s 4ms/step - loss: 0.0517 - accuracy: 0.9915 - f1_score: 0.9915 - precision: 0.9906 - recall: 0.9733\n",
      "Epoch 5/10\n",
      "1776/1776 [==============================] - 8s 4ms/step - loss: 0.0532 - accuracy: 0.9908 - f1_score: 0.9908 - precision: 0.9911 - recall: 0.9705\n",
      "Epoch 6/10\n",
      "1776/1776 [==============================] - 8s 4ms/step - loss: 0.0472 - accuracy: 0.9920 - f1_score: 0.9920 - precision: 0.9926 - recall: 0.9736\n",
      "Epoch 7/10\n",
      "1776/1776 [==============================] - 8s 4ms/step - loss: 0.0506 - accuracy: 0.9912 - f1_score: 0.9912 - precision: 0.9927 - recall: 0.9695\n",
      "Epoch 8/10\n",
      "1776/1776 [==============================] - 8s 4ms/step - loss: 0.0472 - accuracy: 0.9919 - f1_score: 0.9919 - precision: 0.9945 - recall: 0.9715\n",
      "Epoch 9/10\n",
      "1776/1776 [==============================] - 8s 4ms/step - loss: 0.0469 - accuracy: 0.9920 - f1_score: 0.9920 - precision: 0.9942 - recall: 0.9722\n",
      "Epoch 10/10\n",
      "1776/1776 [==============================] - 8s 5ms/step - loss: 0.0498 - accuracy: 0.9913 - f1_score: 0.9913 - precision: 0.9923 - recall: 0.9723\n",
      "139/139 [==============================] - 1s 2ms/step - loss: 0.0493 - accuracy: 0.9914 - f1_score: 0.9913 - precision: 0.9905 - recall: 0.9740\n",
      "[0.04930974915623665, 0.9914395213127136, 0.9912808537483215, 0.9905481934547424, 0.9739776849746704]\n"
     ]
    },
    {
     "data": {
      "image/png": "[encoded data removed]",
      "text/plain": [
       "<Figure size 576x576 with 2 Axes>"
      ]
     },
     "metadata": {
      "needs_background": "light",
      "tags": []
     },
     "output_type": "display_data"
    },
    {
     "data": {
      "image/png": "[encoded data removed]",
      "text/plain": [
       "<Figure size 432x288 with 1 Axes>"
      ]
     },
     "metadata": {
      "needs_background": "light",
      "tags": []
     },
     "output_type": "display_data"
    }
   ],
   "source": [
    "model.add(Dense(32, activation = 'softmax', input_dim = 15))\n",
    "model.add(Dense(32, activation = 'softmax'))\n",
    "model.add(Dense(1, activation = 'sigmoid'))\n",
    "\n",
    "model.summary()\n",
    "\n",
    "model.compile(optimizer='adam', loss = 'binary_crossentropy', metrics = ['accuracy',f1_score, Precision(name='precision'), Recall(name='recall')])\n",
    "history = model.fit(X_train, Y_train, batch_size = 10, epochs = 10)\n",
    "\n",
    "model_val = model.evaluate(X_test,Y_test)\n",
    "print(model_val)\n",
    "\n",
    "y_pred = model.predict(X_test)\n",
    "y_pred = (y_pred > 0.5).astype(int)\n",
    "\n",
    "import numpy as np\n",
    "Y_pred = np.argmax(y_pred, axis=1)\n",
    "\n",
    "from sklearn.metrics import confusion_matrix\n",
    "cm = confusion_matrix(Y_test, y_pred)\n",
    "\n",
    "import seaborn as sns\n",
    "Y_pred = model.predict(X_test)\n",
    "Y_pred_classes = np.argmax(Y_pred,axis = 1) \n",
    "Y_true = np.argmax(Y_test) \n",
    "f,ax = plt.subplots(figsize=(8, 8))\n",
    "sns.heatmap(cm, annot=True, linewidths=0.01,cmap=\"Greens\",linecolor=\"gray\", fmt= '.1f',ax=ax)\n",
    "plt.xlabel(\"Predicted Label\")\n",
    "plt.ylabel(\"True Label\")\n",
    "plt.title(\"Confusion Matrix\")\n",
    "plt.show()\n",
    "\n",
    "plt.plot(history.history['loss'])\n",
    "plt.plot(history.history['accuracy'])\n",
    "plt.plot(history.history['f1_score'])\n",
    "plt.plot(history.history['precision'])\n",
    "plt.plot(history.history['recall'])\n",
    "plt.title('Model Train')\n",
    "plt.ylabel('Value')\n",
    "plt.xlabel('epoch')\n",
    "plt.legend(['loss', 'accuracy','f1_score', 'precision', 'recall'], loc='center left')\n",
    "plt.show()"
   ]
  },
  {
   "cell_type": "code",
   "execution_count": null,
   "metadata": {
    "id": "tFhbKSOWbi4f"
   },
   "outputs": [],
   "source": []
  },
  {
   "cell_type": "markdown",
   "metadata": {
    "id": "iivPvlxmchOt"
   },
   "source": [
    "## 3 hidden layer, activation ='softmax'"
   ]
  },
  {
   "cell_type": "code",
   "execution_count": 71,
   "metadata": {
    "colab": {
     "base_uri": "https://localhost:8080/",
     "height": 1000
    },
    "id": "-fQ3oRiccmWr",
    "outputId": "618d6019-078a-4035-959b-650a04bb182b"
   },
   "outputs": [
    {
     "name": "stdout",
     "output_type": "stream",
     "text": [
      "Model: \"sequential_1\"\n",
      "_________________________________________________________________\n",
      "Layer (type)                 Output Shape              Param #   \n",
      "=================================================================\n",
      "dense_2 (Dense)              (None, 32)                512       \n",
      "_________________________________________________________________\n",
      "dense_3 (Dense)              (None, 32)                1056      \n",
      "_________________________________________________________________\n",
      "dense_4 (Dense)              (None, 1)                 33        \n",
      "_________________________________________________________________\n",
      "dense_5 (Dense)              (None, 32)                64        \n",
      "_________________________________________________________________\n",
      "dense_6 (Dense)              (None, 32)                1056      \n",
      "_________________________________________________________________\n",
      "dense_7 (Dense)              (None, 64)                2112      \n",
      "_________________________________________________________________\n",
      "dense_8 (Dense)              (None, 1)                 65        \n",
      "_________________________________________________________________\n",
      "dense_9 (Dense)              (None, 32)                64        \n",
      "_________________________________________________________________\n",
      "dense_10 (Dense)             (None, 32)                1056      \n",
      "_________________________________________________________________\n",
      "dense_11 (Dense)             (None, 64)                2112      \n",
      "_________________________________________________________________\n",
      "dense_12 (Dense)             (None, 128)               8320      \n",
      "_________________________________________________________________\n",
      "dense_13 (Dense)             (None, 1)                 129       \n",
      "_________________________________________________________________\n",
      "dense_14 (Dense)             (None, 32)                64        \n",
      "_________________________________________________________________\n",
      "dense_15 (Dense)             (None, 32)                1056      \n",
      "_________________________________________________________________\n",
      "dense_16 (Dense)             (None, 64)                2112      \n",
      "_________________________________________________________________\n",
      "dense_17 (Dense)             (None, 128)               8320      \n",
      "_________________________________________________________________\n",
      "dense_18 (Dense)             (None, 1)                 129       \n",
      "_________________________________________________________________\n",
      "dense_19 (Dense)             (None, 32)                64        \n",
      "_________________________________________________________________\n",
      "dense_20 (Dense)             (None, 32)                1056      \n",
      "_________________________________________________________________\n",
      "dense_21 (Dense)             (None, 64)                2112      \n",
      "_________________________________________________________________\n",
      "dense_22 (Dense)             (None, 128)               8320      \n",
      "_________________________________________________________________\n",
      "dense_23 (Dense)             (None, 1)                 129       \n",
      "_________________________________________________________________\n",
      "dense_24 (Dense)             (None, 32)                64        \n",
      "_________________________________________________________________\n",
      "dense_25 (Dense)             (None, 32)                1056      \n",
      "_________________________________________________________________\n",
      "dense_26 (Dense)             (None, 64)                2112      \n",
      "_________________________________________________________________\n",
      "dense_27 (Dense)             (None, 1)                 65        \n",
      "_________________________________________________________________\n",
      "dense_28 (Dense)             (None, 32)                64        \n",
      "_________________________________________________________________\n",
      "dense_29 (Dense)             (None, 32)                1056      \n",
      "_________________________________________________________________\n",
      "dense_30 (Dense)             (None, 1)                 33        \n",
      "_________________________________________________________________\n",
      "dense_31 (Dense)             (None, 32)                64        \n",
      "_________________________________________________________________\n",
      "dense_32 (Dense)             (None, 1)                 33        \n",
      "_________________________________________________________________\n",
      "dense_33 (Dense)             (None, 32)                64        \n",
      "_________________________________________________________________\n",
      "dense_34 (Dense)             (None, 1)                 33        \n",
      "_________________________________________________________________\n",
      "dense_35 (Dense)             (None, 32)                64        \n",
      "_________________________________________________________________\n",
      "dense_36 (Dense)             (None, 32)                1056      \n",
      "_________________________________________________________________\n",
      "dense_37 (Dense)             (None, 1)                 33        \n",
      "_________________________________________________________________\n",
      "dense_38 (Dense)             (None, 32)                64        \n",
      "_________________________________________________________________\n",
      "dense_39 (Dense)             (None, 32)                1056      \n",
      "_________________________________________________________________\n",
      "dense_40 (Dense)             (None, 1)                 33        \n",
      "_________________________________________________________________\n",
      "dense_41 (Dense)             (None, 32)                64        \n",
      "_________________________________________________________________\n",
      "dense_42 (Dense)             (None, 32)                1056      \n",
      "_________________________________________________________________\n",
      "dense_43 (Dense)             (None, 64)                2112      \n",
      "_________________________________________________________________\n",
      "dense_44 (Dense)             (None, 1)                 65        \n",
      "=================================================================\n",
      "Total params: 50,188\n",
      "Trainable params: 50,188\n",
      "Non-trainable params: 0\n",
      "_________________________________________________________________\n",
      "Epoch 1/10\n",
      "1776/1776 [==============================] - 11s 5ms/step - loss: 0.5827 - accuracy: 0.7597 - f1_score: 0.7597 - precision: 0.1126 - recall: 0.0064\n",
      "Epoch 2/10\n",
      "1776/1776 [==============================] - 9s 5ms/step - loss: 0.1457 - accuracy: 0.9915 - f1_score: 0.9915 - precision: 0.9922 - recall: 0.9719\n",
      "Epoch 3/10\n",
      "1776/1776 [==============================] - 9s 5ms/step - loss: 0.0575 - accuracy: 0.9922 - f1_score: 0.9922 - precision: 0.9924 - recall: 0.9751\n",
      "Epoch 4/10\n",
      "1776/1776 [==============================] - 9s 5ms/step - loss: 0.0528 - accuracy: 0.9914 - f1_score: 0.9914 - precision: 0.9939 - recall: 0.9699\n",
      "Epoch 5/10\n",
      "1776/1776 [==============================] - 9s 5ms/step - loss: 0.0471 - accuracy: 0.9922 - f1_score: 0.9922 - precision: 0.9946 - recall: 0.9733\n",
      "Epoch 6/10\n",
      "1776/1776 [==============================] - 9s 5ms/step - loss: 0.0443 - accuracy: 0.9927 - f1_score: 0.9927 - precision: 0.9941 - recall: 0.9751\n",
      "Epoch 7/10\n",
      "1776/1776 [==============================] - 9s 5ms/step - loss: 0.0443 - accuracy: 0.9926 - f1_score: 0.9926 - precision: 0.9951 - recall: 0.9742\n",
      "Epoch 8/10\n",
      "1776/1776 [==============================] - 9s 5ms/step - loss: 0.0493 - accuracy: 0.9915 - f1_score: 0.9915 - precision: 0.9943 - recall: 0.9702\n",
      "Epoch 9/10\n",
      "1776/1776 [==============================] - 9s 5ms/step - loss: 0.0453 - accuracy: 0.9923 - f1_score: 0.9923 - precision: 0.9926 - recall: 0.9756\n",
      "Epoch 10/10\n",
      "1776/1776 [==============================] - 9s 5ms/step - loss: 0.0466 - accuracy: 0.9920 - f1_score: 0.9920 - precision: 0.9933 - recall: 0.9739\n",
      "139/139 [==============================] - 1s 2ms/step - loss: 0.0493 - accuracy: 0.9914 - f1_score: 0.9913 - precision: 0.9905 - recall: 0.9740\n",
      "[0.04930819571018219, 0.9914395213127136, 0.9912808537483215, 0.9905481934547424, 0.9739776849746704]\n"
     ]
    },
    {
     "data": {
      "image/png": "[encoded data removed]",
      "text/plain": [
       "<Figure size 576x576 with 2 Axes>"
      ]
     },
     "metadata": {
      "needs_background": "light",
      "tags": []
     },
     "output_type": "display_data"
    },
    {
     "data": {
      "image/png": "[encoded data removed]",
      "text/plain": [
       "<Figure size 432x288 with 1 Axes>"
      ]
     },
     "metadata": {
      "needs_background": "light",
      "tags": []
     },
     "output_type": "display_data"
    }
   ],
   "source": [
    "model.add(Dense(32, activation = 'softmax', input_dim = 15))\n",
    "model.add(Dense(32, activation = 'softmax'))\n",
    "model.add(Dense(64, activation = 'softmax'))\n",
    "model.add(Dense(1, activation = 'sigmoid'))\n",
    "\n",
    "model.summary()\n",
    "\n",
    "model.compile(optimizer='adam', loss = 'binary_crossentropy', metrics = ['accuracy',f1_score, Precision(name='precision'), Recall(name='recall')])\n",
    "history = model.fit(X_train, Y_train, batch_size = 10, epochs = 10)\n",
    "\n",
    "model_val = model.evaluate(X_test,Y_test)\n",
    "print(model_val)\n",
    "\n",
    "y_pred = model.predict(X_test)\n",
    "y_pred = (y_pred > 0.5).astype(int)\n",
    "\n",
    "import numpy as np\n",
    "Y_pred = np.argmax(y_pred, axis=1)\n",
    "\n",
    "from sklearn.metrics import confusion_matrix\n",
    "cm = confusion_matrix(Y_test, y_pred)\n",
    "\n",
    "import seaborn as sns\n",
    "Y_pred = model.predict(X_test)\n",
    "Y_pred_classes = np.argmax(Y_pred,axis = 1) \n",
    "Y_true = np.argmax(Y_test) \n",
    "f,ax = plt.subplots(figsize=(8, 8))\n",
    "sns.heatmap(cm, annot=True, linewidths=0.01,cmap=\"Greens\",linecolor=\"gray\", fmt= '.1f',ax=ax)\n",
    "plt.xlabel(\"Predicted Label\")\n",
    "plt.ylabel(\"True Label\")\n",
    "plt.title(\"Confusion Matrix\")\n",
    "plt.show()\n",
    "\n",
    "plt.plot(history.history['loss'])\n",
    "plt.plot(history.history['accuracy'])\n",
    "plt.plot(history.history['f1_score'])\n",
    "plt.plot(history.history['precision'])\n",
    "plt.plot(history.history['recall'])\n",
    "plt.title('Model Train')\n",
    "plt.ylabel('Value')\n",
    "plt.xlabel('epoch')\n",
    "plt.legend(['loss', 'accuracy','f1_score', 'precision', 'recall'], loc='center left')\n",
    "plt.show()"
   ]
  },
  {
   "cell_type": "code",
   "execution_count": null,
   "metadata": {
    "id": "gJSjInJccq07"
   },
   "outputs": [],
   "source": []
  },
  {
   "cell_type": "markdown",
   "metadata": {
    "id": "kEaftpMhcrVO"
   },
   "source": [
    "## 4 hidden layer, activation ='softmax'"
   ]
  },
  {
   "cell_type": "code",
   "execution_count": 72,
   "metadata": {
    "colab": {
     "base_uri": "https://localhost:8080/",
     "height": 1000
    },
    "id": "Hl5D9hDscuu5",
    "outputId": "82cadab4-09de-4bb6-e415-705c584fe7aa"
   },
   "outputs": [
    {
     "name": "stdout",
     "output_type": "stream",
     "text": [
      "Model: \"sequential_1\"\n",
      "_________________________________________________________________\n",
      "Layer (type)                 Output Shape              Param #   \n",
      "=================================================================\n",
      "dense_2 (Dense)              (None, 32)                512       \n",
      "_________________________________________________________________\n",
      "dense_3 (Dense)              (None, 32)                1056      \n",
      "_________________________________________________________________\n",
      "dense_4 (Dense)              (None, 1)                 33        \n",
      "_________________________________________________________________\n",
      "dense_5 (Dense)              (None, 32)                64        \n",
      "_________________________________________________________________\n",
      "dense_6 (Dense)              (None, 32)                1056      \n",
      "_________________________________________________________________\n",
      "dense_7 (Dense)              (None, 64)                2112      \n",
      "_________________________________________________________________\n",
      "dense_8 (Dense)              (None, 1)                 65        \n",
      "_________________________________________________________________\n",
      "dense_9 (Dense)              (None, 32)                64        \n",
      "_________________________________________________________________\n",
      "dense_10 (Dense)             (None, 32)                1056      \n",
      "_________________________________________________________________\n",
      "dense_11 (Dense)             (None, 64)                2112      \n",
      "_________________________________________________________________\n",
      "dense_12 (Dense)             (None, 128)               8320      \n",
      "_________________________________________________________________\n",
      "dense_13 (Dense)             (None, 1)                 129       \n",
      "_________________________________________________________________\n",
      "dense_14 (Dense)             (None, 32)                64        \n",
      "_________________________________________________________________\n",
      "dense_15 (Dense)             (None, 32)                1056      \n",
      "_________________________________________________________________\n",
      "dense_16 (Dense)             (None, 64)                2112      \n",
      "_________________________________________________________________\n",
      "dense_17 (Dense)             (None, 128)               8320      \n",
      "_________________________________________________________________\n",
      "dense_18 (Dense)             (None, 1)                 129       \n",
      "_________________________________________________________________\n",
      "dense_19 (Dense)             (None, 32)                64        \n",
      "_________________________________________________________________\n",
      "dense_20 (Dense)             (None, 32)                1056      \n",
      "_________________________________________________________________\n",
      "dense_21 (Dense)             (None, 64)                2112      \n",
      "_________________________________________________________________\n",
      "dense_22 (Dense)             (None, 128)               8320      \n",
      "_________________________________________________________________\n",
      "dense_23 (Dense)             (None, 1)                 129       \n",
      "_________________________________________________________________\n",
      "dense_24 (Dense)             (None, 32)                64        \n",
      "_________________________________________________________________\n",
      "dense_25 (Dense)             (None, 32)                1056      \n",
      "_________________________________________________________________\n",
      "dense_26 (Dense)             (None, 64)                2112      \n",
      "_________________________________________________________________\n",
      "dense_27 (Dense)             (None, 1)                 65        \n",
      "_________________________________________________________________\n",
      "dense_28 (Dense)             (None, 32)                64        \n",
      "_________________________________________________________________\n",
      "dense_29 (Dense)             (None, 32)                1056      \n",
      "_________________________________________________________________\n",
      "dense_30 (Dense)             (None, 1)                 33        \n",
      "_________________________________________________________________\n",
      "dense_31 (Dense)             (None, 32)                64        \n",
      "_________________________________________________________________\n",
      "dense_32 (Dense)             (None, 1)                 33        \n",
      "_________________________________________________________________\n",
      "dense_33 (Dense)             (None, 32)                64        \n",
      "_________________________________________________________________\n",
      "dense_34 (Dense)             (None, 1)                 33        \n",
      "_________________________________________________________________\n",
      "dense_35 (Dense)             (None, 32)                64        \n",
      "_________________________________________________________________\n",
      "dense_36 (Dense)             (None, 32)                1056      \n",
      "_________________________________________________________________\n",
      "dense_37 (Dense)             (None, 1)                 33        \n",
      "_________________________________________________________________\n",
      "dense_38 (Dense)             (None, 32)                64        \n",
      "_________________________________________________________________\n",
      "dense_39 (Dense)             (None, 32)                1056      \n",
      "_________________________________________________________________\n",
      "dense_40 (Dense)             (None, 1)                 33        \n",
      "_________________________________________________________________\n",
      "dense_41 (Dense)             (None, 32)                64        \n",
      "_________________________________________________________________\n",
      "dense_42 (Dense)             (None, 32)                1056      \n",
      "_________________________________________________________________\n",
      "dense_43 (Dense)             (None, 64)                2112      \n",
      "_________________________________________________________________\n",
      "dense_44 (Dense)             (None, 1)                 65        \n",
      "_________________________________________________________________\n",
      "dense_45 (Dense)             (None, 32)                64        \n",
      "_________________________________________________________________\n",
      "dense_46 (Dense)             (None, 32)                1056      \n",
      "_________________________________________________________________\n",
      "dense_47 (Dense)             (None, 64)                2112      \n",
      "_________________________________________________________________\n",
      "dense_48 (Dense)             (None, 128)               8320      \n",
      "_________________________________________________________________\n",
      "dense_49 (Dense)             (None, 1)                 129       \n",
      "=================================================================\n",
      "Total params: 61,869\n",
      "Trainable params: 61,869\n",
      "Non-trainable params: 0\n",
      "_________________________________________________________________\n",
      "Epoch 1/10\n",
      "1776/1776 [==============================] - 13s 6ms/step - loss: 0.6035 - accuracy: 0.7607 - f1_score: 0.7607 - precision: 0.0000e+00 - recall: 0.0000e+00\n",
      "Epoch 2/10\n",
      "1776/1776 [==============================] - 10s 6ms/step - loss: 0.4053 - accuracy: 0.8120 - f1_score: 0.8120 - precision: 0.6395 - recall: 0.2610\n",
      "Epoch 3/10\n",
      "1776/1776 [==============================] - 10s 6ms/step - loss: 0.0683 - accuracy: 0.9912 - f1_score: 0.9912 - precision: 0.9924 - recall: 0.9717\n",
      "Epoch 4/10\n",
      "1776/1776 [==============================] - 10s 6ms/step - loss: 0.0479 - accuracy: 0.9925 - f1_score: 0.9925 - precision: 0.9933 - recall: 0.9755\n",
      "Epoch 5/10\n",
      "1776/1776 [==============================] - 10s 6ms/step - loss: 0.0500 - accuracy: 0.9915 - f1_score: 0.9915 - precision: 0.9930 - recall: 0.9721\n",
      "Epoch 6/10\n",
      "1776/1776 [==============================] - 10s 6ms/step - loss: 0.0490 - accuracy: 0.9916 - f1_score: 0.9916 - precision: 0.9916 - recall: 0.9738\n",
      "Epoch 7/10\n",
      "1776/1776 [==============================] - 10s 6ms/step - loss: 0.0465 - accuracy: 0.9921 - f1_score: 0.9921 - precision: 0.9939 - recall: 0.9738\n",
      "Epoch 8/10\n",
      "1776/1776 [==============================] - 10s 6ms/step - loss: 0.0448 - accuracy: 0.9924 - f1_score: 0.9924 - precision: 0.9940 - recall: 0.9750\n",
      "Epoch 9/10\n",
      "1776/1776 [==============================] - 10s 6ms/step - loss: 0.0432 - accuracy: 0.9927 - f1_score: 0.9927 - precision: 0.9940 - recall: 0.9760\n",
      "Epoch 10/10\n",
      "1776/1776 [==============================] - 10s 6ms/step - loss: 0.0495 - accuracy: 0.9914 - f1_score: 0.9914 - precision: 0.9907 - recall: 0.9733\n",
      "139/139 [==============================] - 1s 2ms/step - loss: 0.0493 - accuracy: 0.9914 - f1_score: 0.9913 - precision: 0.9905 - recall: 0.9740\n",
      "[0.049328241497278214, 0.9914395213127136, 0.9912808537483215, 0.9905481934547424, 0.9739776849746704]\n"
     ]
    },
    {
     "data": {
      "image/png": "[encoded data removed]",
      "text/plain": [
       "<Figure size 576x576 with 2 Axes>"
      ]
     },
     "metadata": {
      "needs_background": "light",
      "tags": []
     },
     "output_type": "display_data"
    },
    {
     "data": {
      "image/png": "[encoded data removed]",
      "text/plain": [
       "<Figure size 432x288 with 1 Axes>"
      ]
     },
     "metadata": {
      "needs_background": "light",
      "tags": []
     },
     "output_type": "display_data"
    }
   ],
   "source": [
    "model.add(Dense(32, activation = 'softmax', input_dim = 15))\n",
    "model.add(Dense(32, activation = 'softmax'))\n",
    "model.add(Dense(64, activation = 'softmax'))\n",
    "model.add(Dense(128, activation = 'softmax'))\n",
    "model.add(Dense(1, activation = 'sigmoid'))\n",
    "\n",
    "model.summary()\n",
    "\n",
    "model.compile(optimizer='adam', loss = 'binary_crossentropy', metrics = ['accuracy',f1_score, Precision(name='precision'), Recall(name='recall')])\n",
    "history = model.fit(X_train, Y_train, batch_size = 10, epochs = 10)\n",
    "\n",
    "model_val = model.evaluate(X_test,Y_test)\n",
    "print(model_val)\n",
    "\n",
    "y_pred = model.predict(X_test)\n",
    "y_pred = (y_pred > 0.5).astype(int)\n",
    "\n",
    "import numpy as np\n",
    "Y_pred = np.argmax(y_pred, axis=1)\n",
    "\n",
    "from sklearn.metrics import confusion_matrix\n",
    "cm = confusion_matrix(Y_test, y_pred)\n",
    "\n",
    "import seaborn as sns\n",
    "Y_pred = model.predict(X_test)\n",
    "Y_pred_classes = np.argmax(Y_pred,axis = 1) \n",
    "Y_true = np.argmax(Y_test) \n",
    "f,ax = plt.subplots(figsize=(8, 8))\n",
    "sns.heatmap(cm, annot=True, linewidths=0.01,cmap=\"Greens\",linecolor=\"gray\", fmt= '.1f',ax=ax)\n",
    "plt.xlabel(\"Predicted Label\")\n",
    "plt.ylabel(\"True Label\")\n",
    "plt.title(\"Confusion Matrix\")\n",
    "plt.show()\n",
    "\n",
    "plt.plot(history.history['loss'])\n",
    "plt.plot(history.history['accuracy'])\n",
    "plt.plot(history.history['f1_score'])\n",
    "plt.plot(history.history['precision'])\n",
    "plt.plot(history.history['recall'])\n",
    "plt.title('Model Train')\n",
    "plt.ylabel('Value')\n",
    "plt.xlabel('epoch')\n",
    "plt.legend(['loss', 'accuracy','f1_score', 'precision', 'recall'], loc='center left')\n",
    "plt.show()"
   ]
  }
 ],
 "metadata": {
  "colab": {
   "collapsed_sections": [],
   "name": "ANN.ipynb",
   "provenance": []
  },
  "kernelspec": {
   "display_name": "Python 3",
   "language": "python",
   "name": "python3"
  },
  "language_info": {
   "codemirror_mode": {
    "name": "ipython",
    "version": 3
   },
   "file_extension": ".py",
   "mimetype": "text/x-python",
   "name": "python",
   "nbconvert_exporter": "python",
   "pygments_lexer": "ipython3",
   "version": "3.7.2"
  }
 },
 "nbformat": 4,
 "nbformat_minor": 1
}
