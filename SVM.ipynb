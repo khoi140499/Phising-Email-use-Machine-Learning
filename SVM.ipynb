{
 "cells": [
  {
   "cell_type": "code",
   "execution_count": 1,
   "id": "d3418267",
   "metadata": {},
   "outputs": [],
   "source": [
    "import pandas as pd\n",
    "from sklearn.preprocessing import LabelEncoder\n",
    "from sklearn.linear_model import LogisticRegression\n",
    "from sklearn.model_selection import train_test_split, cross_val_predict, learning_curve\n",
    "from sklearn.metrics import r2_score, accuracy_score\n",
    "from sklearn.svm import SVC, LinearSVC\n",
    "from sklearn.metrics import plot_confusion_matrix\n",
    "from sklearn.metrics import confusion_matrix\n",
    "from mlxtend.plotting import plot_decision_regions\n",
    "import pandas as pd\n",
    "from sklearn import metrics\n",
    "from sklearn.preprocessing import StandardScaler\n",
    "import matplotlib.pyplot as plt\n",
    "from sklearn.metrics import precision_score\n",
    "from sklearn.metrics import f1_score\n",
    "from sklearn.metrics import recall_score\n",
    "from sklearn.metrics import accuracy_score\n",
    "from mlxtend.plotting import plot_decision_regions\n",
    "from sklearn.metrics import roc_curve, roc_auc_score, auc\n",
    "import time\n",
    "from sklearn.model_selection import GridSearchCV "
   ]
  },
  {
   "cell_type": "code",
   "execution_count": 2,
   "id": "c46bdaf9",
   "metadata": {},
   "outputs": [],
   "source": [
    "spear = pd.read_csv(\"data-spear.csv\")\n",
    "enron = pd.read_csv(\"data-enron.csv\")"
   ]
  },
  {
   "cell_type": "code",
   "execution_count": 3,
   "id": "950f7cdc",
   "metadata": {},
   "outputs": [],
   "source": [
    "data = pd.concat([spear,enron],ignore_index=True)"
   ]
  },
  {
   "cell_type": "code",
   "execution_count": 4,
   "id": "8335a9ad",
   "metadata": {},
   "outputs": [],
   "source": [
    "row1 = data.iloc[:, [1, 2, 3, 4, 5, 6, 7, 8, 9, 10, 11, 12, 13, 14, 16]]\n",
    "row2 = data.iloc[:, 15]"
   ]
  },
  {
   "cell_type": "code",
   "execution_count": 5,
   "id": "975b4d2b",
   "metadata": {},
   "outputs": [],
   "source": [
    "data=pd.concat([row2, row1], axis=1)"
   ]
  },
  {
   "cell_type": "code",
   "execution_count": 6,
   "id": "533e7f83",
   "metadata": {},
   "outputs": [],
   "source": [
    "# chuyen label encoding ve dang int"
   ]
  },
  {
   "cell_type": "code",
   "execution_count": 7,
   "id": "7eb29df6",
   "metadata": {},
   "outputs": [],
   "source": [
    "le = LabelEncoder()\n",
    "le.fit(data.iloc[:,6])\n",
    "data.iloc[:,6] = le.transform(data.iloc[:,6])"
   ]
  },
  {
   "cell_type": "code",
   "execution_count": 8,
   "id": "67961203",
   "metadata": {},
   "outputs": [],
   "source": [
    "# chuyen cac gia tri true/false ve 1/0"
   ]
  },
  {
   "cell_type": "code",
   "execution_count": 9,
   "id": "73ef9ff5",
   "metadata": {},
   "outputs": [],
   "source": [
    "data=data.astype(int)"
   ]
  },
  {
   "cell_type": "code",
   "execution_count": 10,
   "id": "2b6177bb",
   "metadata": {},
   "outputs": [
    {
     "data": {
      "text/html": [
       "<div>\n",
       "<style scoped>\n",
       "    .dataframe tbody tr th:only-of-type {\n",
       "        vertical-align: middle;\n",
       "    }\n",
       "\n",
       "    .dataframe tbody tr th {\n",
       "        vertical-align: top;\n",
       "    }\n",
       "\n",
       "    .dataframe thead th {\n",
       "        text-align: right;\n",
       "    }\n",
       "</style>\n",
       "<table border=\"1\" class=\"dataframe\">\n",
       "  <thead>\n",
       "    <tr style=\"text-align: right;\">\n",
       "      <th></th>\n",
       "      <th>SpearPhising</th>\n",
       "      <th>@ in URLs</th>\n",
       "      <th>Attachments</th>\n",
       "      <th>Css</th>\n",
       "      <th>Dangerous Body</th>\n",
       "      <th>Dangerous Subject</th>\n",
       "      <th>Encoding</th>\n",
       "      <th>External Resources</th>\n",
       "      <th>File</th>\n",
       "      <th>Flash content</th>\n",
       "      <th>HTML content</th>\n",
       "      <th>Html Form</th>\n",
       "      <th>Html iFrame</th>\n",
       "      <th>IPs in URLs</th>\n",
       "      <th>Javascript</th>\n",
       "      <th>URLs</th>\n",
       "    </tr>\n",
       "  </thead>\n",
       "  <tbody>\n",
       "    <tr>\n",
       "      <th>0</th>\n",
       "      <td>1</td>\n",
       "      <td>0</td>\n",
       "      <td>0</td>\n",
       "      <td>0</td>\n",
       "      <td>23</td>\n",
       "      <td>0</td>\n",
       "      <td>3</td>\n",
       "      <td>0</td>\n",
       "      <td>3</td>\n",
       "      <td>0</td>\n",
       "      <td>1</td>\n",
       "      <td>0</td>\n",
       "      <td>0</td>\n",
       "      <td>1</td>\n",
       "      <td>1</td>\n",
       "      <td>17</td>\n",
       "    </tr>\n",
       "    <tr>\n",
       "      <th>1</th>\n",
       "      <td>1</td>\n",
       "      <td>0</td>\n",
       "      <td>1</td>\n",
       "      <td>0</td>\n",
       "      <td>2</td>\n",
       "      <td>0</td>\n",
       "      <td>2</td>\n",
       "      <td>0</td>\n",
       "      <td>11</td>\n",
       "      <td>0</td>\n",
       "      <td>1</td>\n",
       "      <td>0</td>\n",
       "      <td>0</td>\n",
       "      <td>0</td>\n",
       "      <td>0</td>\n",
       "      <td>4</td>\n",
       "    </tr>\n",
       "    <tr>\n",
       "      <th>2</th>\n",
       "      <td>1</td>\n",
       "      <td>0</td>\n",
       "      <td>0</td>\n",
       "      <td>0</td>\n",
       "      <td>1</td>\n",
       "      <td>0</td>\n",
       "      <td>3</td>\n",
       "      <td>0</td>\n",
       "      <td>6</td>\n",
       "      <td>0</td>\n",
       "      <td>1</td>\n",
       "      <td>0</td>\n",
       "      <td>0</td>\n",
       "      <td>0</td>\n",
       "      <td>0</td>\n",
       "      <td>6</td>\n",
       "    </tr>\n",
       "    <tr>\n",
       "      <th>3</th>\n",
       "      <td>1</td>\n",
       "      <td>0</td>\n",
       "      <td>0</td>\n",
       "      <td>0</td>\n",
       "      <td>1</td>\n",
       "      <td>0</td>\n",
       "      <td>3</td>\n",
       "      <td>0</td>\n",
       "      <td>1</td>\n",
       "      <td>0</td>\n",
       "      <td>1</td>\n",
       "      <td>0</td>\n",
       "      <td>0</td>\n",
       "      <td>0</td>\n",
       "      <td>0</td>\n",
       "      <td>2</td>\n",
       "    </tr>\n",
       "    <tr>\n",
       "      <th>4</th>\n",
       "      <td>1</td>\n",
       "      <td>0</td>\n",
       "      <td>0</td>\n",
       "      <td>0</td>\n",
       "      <td>1</td>\n",
       "      <td>0</td>\n",
       "      <td>3</td>\n",
       "      <td>0</td>\n",
       "      <td>1</td>\n",
       "      <td>0</td>\n",
       "      <td>1</td>\n",
       "      <td>0</td>\n",
       "      <td>0</td>\n",
       "      <td>0</td>\n",
       "      <td>0</td>\n",
       "      <td>2</td>\n",
       "    </tr>\n",
       "    <tr>\n",
       "      <th>...</th>\n",
       "      <td>...</td>\n",
       "      <td>...</td>\n",
       "      <td>...</td>\n",
       "      <td>...</td>\n",
       "      <td>...</td>\n",
       "      <td>...</td>\n",
       "      <td>...</td>\n",
       "      <td>...</td>\n",
       "      <td>...</td>\n",
       "      <td>...</td>\n",
       "      <td>...</td>\n",
       "      <td>...</td>\n",
       "      <td>...</td>\n",
       "      <td>...</td>\n",
       "      <td>...</td>\n",
       "      <td>...</td>\n",
       "    </tr>\n",
       "    <tr>\n",
       "      <th>22190</th>\n",
       "      <td>0</td>\n",
       "      <td>0</td>\n",
       "      <td>0</td>\n",
       "      <td>0</td>\n",
       "      <td>2</td>\n",
       "      <td>0</td>\n",
       "      <td>0</td>\n",
       "      <td>0</td>\n",
       "      <td>3</td>\n",
       "      <td>0</td>\n",
       "      <td>0</td>\n",
       "      <td>0</td>\n",
       "      <td>0</td>\n",
       "      <td>0</td>\n",
       "      <td>0</td>\n",
       "      <td>0</td>\n",
       "    </tr>\n",
       "    <tr>\n",
       "      <th>22191</th>\n",
       "      <td>0</td>\n",
       "      <td>0</td>\n",
       "      <td>0</td>\n",
       "      <td>0</td>\n",
       "      <td>7</td>\n",
       "      <td>0</td>\n",
       "      <td>0</td>\n",
       "      <td>0</td>\n",
       "      <td>15</td>\n",
       "      <td>0</td>\n",
       "      <td>0</td>\n",
       "      <td>0</td>\n",
       "      <td>0</td>\n",
       "      <td>0</td>\n",
       "      <td>0</td>\n",
       "      <td>1</td>\n",
       "    </tr>\n",
       "    <tr>\n",
       "      <th>22192</th>\n",
       "      <td>0</td>\n",
       "      <td>0</td>\n",
       "      <td>0</td>\n",
       "      <td>0</td>\n",
       "      <td>0</td>\n",
       "      <td>0</td>\n",
       "      <td>0</td>\n",
       "      <td>0</td>\n",
       "      <td>0</td>\n",
       "      <td>0</td>\n",
       "      <td>0</td>\n",
       "      <td>0</td>\n",
       "      <td>0</td>\n",
       "      <td>0</td>\n",
       "      <td>0</td>\n",
       "      <td>0</td>\n",
       "    </tr>\n",
       "    <tr>\n",
       "      <th>22193</th>\n",
       "      <td>0</td>\n",
       "      <td>0</td>\n",
       "      <td>0</td>\n",
       "      <td>0</td>\n",
       "      <td>6</td>\n",
       "      <td>0</td>\n",
       "      <td>0</td>\n",
       "      <td>0</td>\n",
       "      <td>6</td>\n",
       "      <td>0</td>\n",
       "      <td>0</td>\n",
       "      <td>0</td>\n",
       "      <td>0</td>\n",
       "      <td>0</td>\n",
       "      <td>0</td>\n",
       "      <td>1</td>\n",
       "    </tr>\n",
       "    <tr>\n",
       "      <th>22194</th>\n",
       "      <td>0</td>\n",
       "      <td>0</td>\n",
       "      <td>0</td>\n",
       "      <td>0</td>\n",
       "      <td>0</td>\n",
       "      <td>0</td>\n",
       "      <td>0</td>\n",
       "      <td>0</td>\n",
       "      <td>0</td>\n",
       "      <td>0</td>\n",
       "      <td>0</td>\n",
       "      <td>0</td>\n",
       "      <td>0</td>\n",
       "      <td>0</td>\n",
       "      <td>0</td>\n",
       "      <td>0</td>\n",
       "    </tr>\n",
       "  </tbody>\n",
       "</table>\n",
       "<p>22195 rows × 16 columns</p>\n",
       "</div>"
      ],
      "text/plain": [
       "       SpearPhising  @ in URLs  Attachments  Css  Dangerous Body  \\\n",
       "0                 1          0            0    0              23   \n",
       "1                 1          0            1    0               2   \n",
       "2                 1          0            0    0               1   \n",
       "3                 1          0            0    0               1   \n",
       "4                 1          0            0    0               1   \n",
       "...             ...        ...          ...  ...             ...   \n",
       "22190             0          0            0    0               2   \n",
       "22191             0          0            0    0               7   \n",
       "22192             0          0            0    0               0   \n",
       "22193             0          0            0    0               6   \n",
       "22194             0          0            0    0               0   \n",
       "\n",
       "       Dangerous Subject  Encoding  External Resources  File  Flash content  \\\n",
       "0                      0         3                   0     3              0   \n",
       "1                      0         2                   0    11              0   \n",
       "2                      0         3                   0     6              0   \n",
       "3                      0         3                   0     1              0   \n",
       "4                      0         3                   0     1              0   \n",
       "...                  ...       ...                 ...   ...            ...   \n",
       "22190                  0         0                   0     3              0   \n",
       "22191                  0         0                   0    15              0   \n",
       "22192                  0         0                   0     0              0   \n",
       "22193                  0         0                   0     6              0   \n",
       "22194                  0         0                   0     0              0   \n",
       "\n",
       "       HTML content  Html Form  Html iFrame  IPs in URLs  Javascript  URLs  \n",
       "0                 1          0            0            1           1    17  \n",
       "1                 1          0            0            0           0     4  \n",
       "2                 1          0            0            0           0     6  \n",
       "3                 1          0            0            0           0     2  \n",
       "4                 1          0            0            0           0     2  \n",
       "...             ...        ...          ...          ...         ...   ...  \n",
       "22190             0          0            0            0           0     0  \n",
       "22191             0          0            0            0           0     1  \n",
       "22192             0          0            0            0           0     0  \n",
       "22193             0          0            0            0           0     1  \n",
       "22194             0          0            0            0           0     0  \n",
       "\n",
       "[22195 rows x 16 columns]"
      ]
     },
     "execution_count": 10,
     "metadata": {},
     "output_type": "execute_result"
    }
   ],
   "source": [
    "data"
   ]
  },
  {
   "cell_type": "code",
   "execution_count": null,
   "id": "0113880f",
   "metadata": {},
   "outputs": [],
   "source": []
  },
  {
   "cell_type": "code",
   "execution_count": 54,
   "id": "3c8734aa",
   "metadata": {},
   "outputs": [],
   "source": [
    "X = data.iloc[:, 1:]\n",
    "Y = data.iloc[:, 0]"
   ]
  },
  {
   "cell_type": "code",
   "execution_count": 65,
   "id": "e98afecb",
   "metadata": {},
   "outputs": [],
   "source": [
    "X_train, X_test, Y_train, Y_test = train_test_split(X,Y, test_size=1/5, random_state=0)"
   ]
  },
  {
   "cell_type": "code",
   "execution_count": 77,
   "id": "373853c7",
   "metadata": {},
   "outputs": [],
   "source": [
    "from sklearn.preprocessing import StandardScaler\n",
    "sc = StandardScaler()\n",
    "trainX = sc.fit_transform(trainX)\n",
    "testX = sc.fit_transform(testX)"
   ]
  },
  {
   "cell_type": "markdown",
   "id": "65571616",
   "metadata": {},
   "source": [
    "# rbf kernel, C=1.0"
   ]
  },
  {
   "cell_type": "code",
   "execution_count": 67,
   "id": "9f45acc4",
   "metadata": {},
   "outputs": [],
   "source": [
    "svc=SVC(C=1.0)"
   ]
  },
  {
   "cell_type": "code",
   "execution_count": 68,
   "id": "ddefcf14",
   "metadata": {},
   "outputs": [],
   "source": [
    "svc = svc.fit(X_train, Y_train)"
   ]
  },
  {
   "cell_type": "code",
   "execution_count": 70,
   "id": "ac10eca7",
   "metadata": {},
   "outputs": [],
   "source": [
    "y_pred = svc.predict(X_test)"
   ]
  },
  {
   "cell_type": "code",
   "execution_count": 74,
   "id": "ba666329",
   "metadata": {},
   "outputs": [
    {
     "name": "stdout",
     "output_type": "stream",
     "text": [
      "              precision    recall  f1-score   support\n",
      "\n",
      "           0       0.99      1.00      0.99      3363\n",
      "           1       0.99      0.96      0.98      1076\n",
      "\n",
      "    accuracy                           0.99      4439\n",
      "   macro avg       0.99      0.98      0.98      4439\n",
      "weighted avg       0.99      0.99      0.99      4439\n",
      "\n"
     ]
    },
    {
     "data": {
      "text/plain": [
       "<sklearn.metrics._plot.confusion_matrix.ConfusionMatrixDisplay at 0x1d4ca2e9f88>"
      ]
     },
     "execution_count": 74,
     "metadata": {},
     "output_type": "execute_result"
    },
    {
     "data": {
      "image/png": "[encoded data removed]",
      "text/plain": [
       "<Figure size 432x288 with 2 Axes>"
      ]
     },
     "metadata": {
      "needs_background": "light"
     },
     "output_type": "display_data"
    }
   ],
   "source": [
    "print(metrics.classification_report(Y_test, y_pred))\n",
    "metrics.plot_confusion_matrix(svc, X_test, Y_test)"
   ]
  },
  {
   "cell_type": "code",
   "execution_count": 75,
   "id": "d69dd291",
   "metadata": {},
   "outputs": [],
   "source": [
    "Accuracy_Score = accuracy_score(Y_test, y_pred)\n",
    "Precision_Score = precision_score(Y_test, y_pred,  average=\"macro\")\n",
    "Recall_Score = recall_score(Y_test, y_pred,  average=\"macro\")\n",
    "F1_Score = metrics.f1_score(Y_test, y_pred,  average=\"macro\")"
   ]
  },
  {
   "cell_type": "code",
   "execution_count": 76,
   "id": "b5e70c83",
   "metadata": {},
   "outputs": [
    {
     "name": "stdout",
     "output_type": "stream",
     "text": [
      "0.9880603739580986\n",
      "0.9879039174828674\n",
      "0.9794798413082673\n",
      "0.9836052299196\n"
     ]
    }
   ],
   "source": [
    "print(Accuracy_Score)\n",
    "print(Precision_Score)\n",
    "print(Recall_Score)\n",
    "print(F1_Score)"
   ]
  },
  {
   "cell_type": "markdown",
   "id": "288e1862",
   "metadata": {},
   "source": [
    "# rbf kernel, C=10"
   ]
  },
  {
   "cell_type": "code",
   "execution_count": 107,
   "id": "ffa34e48",
   "metadata": {},
   "outputs": [],
   "source": [
    "svc1=SVC(C=10.0)"
   ]
  },
  {
   "cell_type": "code",
   "execution_count": 111,
   "id": "7170543d",
   "metadata": {},
   "outputs": [],
   "source": [
    "svc1 = svc1.fit(X_train, Y_train)"
   ]
  },
  {
   "cell_type": "code",
   "execution_count": 112,
   "id": "d5446d1d",
   "metadata": {},
   "outputs": [],
   "source": [
    "y_pred1 = svc.predict(X_test)"
   ]
  },
  {
   "cell_type": "code",
   "execution_count": 113,
   "id": "b2d566da",
   "metadata": {},
   "outputs": [
    {
     "name": "stdout",
     "output_type": "stream",
     "text": [
      "              precision    recall  f1-score   support\n",
      "\n",
      "           0       0.99      1.00      0.99      3363\n",
      "           1       0.99      0.97      0.98      1076\n",
      "\n",
      "    accuracy                           0.99      4439\n",
      "   macro avg       0.99      0.98      0.99      4439\n",
      "weighted avg       0.99      0.99      0.99      4439\n",
      "\n"
     ]
    },
    {
     "data": {
      "text/plain": [
       "<sklearn.metrics._plot.confusion_matrix.ConfusionMatrixDisplay at 0x1d4d5f8e688>"
      ]
     },
     "execution_count": 113,
     "metadata": {},
     "output_type": "execute_result"
    },
    {
     "data": {
      "image/png": "[encoded data removed]",
      "text/plain": [
       "<Figure size 432x288 with 2 Axes>"
      ]
     },
     "metadata": {
      "needs_background": "light"
     },
     "output_type": "display_data"
    }
   ],
   "source": [
    "print(metrics.classification_report(Y_test, y_pred1))\n",
    "metrics.plot_confusion_matrix(svc1, X_test, Y_test)"
   ]
  },
  {
   "cell_type": "code",
   "execution_count": 114,
   "id": "70453da0",
   "metadata": {},
   "outputs": [],
   "source": [
    "Accuracy_Score = accuracy_score(Y_test, y_pred1)\n",
    "Precision_Score = precision_score(Y_test, y_pred1,  average=\"macro\")\n",
    "Recall_Score = recall_score(Y_test, y_pred1,  average=\"macro\")\n",
    "F1_Score = metrics.f1_score(Y_test, y_pred1,  average=\"macro\")"
   ]
  },
  {
   "cell_type": "code",
   "execution_count": 116,
   "id": "9238feda",
   "metadata": {},
   "outputs": [
    {
     "name": "stdout",
     "output_type": "stream",
     "text": [
      "0.9909889614778103\n",
      "0.9911515251738472\n",
      "0.9842567045488462\n",
      "0.9876464875003825\n"
     ]
    }
   ],
   "source": [
    "print(Accuracy_Score)\n",
    "print(Precision_Score)\n",
    "print(Recall_Score)\n",
    "print(F1_Score)"
   ]
  },
  {
   "cell_type": "markdown",
   "id": "e8daf5fb",
   "metadata": {},
   "source": [
    "# rbf kernel, c=100"
   ]
  },
  {
   "cell_type": "code",
   "execution_count": 117,
   "id": "2a36c476",
   "metadata": {},
   "outputs": [
    {
     "name": "stdout",
     "output_type": "stream",
     "text": [
      "              precision    recall  f1-score   support\n",
      "\n",
      "           0       0.99      1.00      0.99      3363\n",
      "           1       0.99      0.97      0.98      1076\n",
      "\n",
      "    accuracy                           0.99      4439\n",
      "   macro avg       0.99      0.98      0.99      4439\n",
      "weighted avg       0.99      0.99      0.99      4439\n",
      "\n"
     ]
    },
    {
     "data": {
      "text/plain": [
       "<sklearn.metrics._plot.confusion_matrix.ConfusionMatrixDisplay at 0x1d4d602f048>"
      ]
     },
     "execution_count": 117,
     "metadata": {},
     "output_type": "execute_result"
    },
    {
     "data": {
      "image/png": "[encoded data removed]",
      "text/plain": [
       "<Figure size 432x288 with 2 Axes>"
      ]
     },
     "metadata": {
      "needs_background": "light"
     },
     "output_type": "display_data"
    }
   ],
   "source": [
    "svc2=SVC(C=10.0)\n",
    "svc2 = svc2.fit(X_train, Y_train)\n",
    "y_pred2 = svc2.predict(X_test)\n",
    "print(metrics.classification_report(Y_test, y_pred2))\n",
    "metrics.plot_confusion_matrix(svc2, X_test, Y_test)"
   ]
  },
  {
   "cell_type": "code",
   "execution_count": 118,
   "id": "f972053d",
   "metadata": {},
   "outputs": [],
   "source": [
    "Accuracy_Score = accuracy_score(Y_test, y_pred2)\n",
    "Precision_Score = precision_score(Y_test, y_pred2,  average=\"macro\")\n",
    "Recall_Score = recall_score(Y_test, y_pred2,  average=\"macro\")\n",
    "F1_Score = metrics.f1_score(Y_test, y_pred2,  average=\"macro\")"
   ]
  },
  {
   "cell_type": "code",
   "execution_count": 119,
   "id": "56e78d68",
   "metadata": {},
   "outputs": [
    {
     "name": "stdout",
     "output_type": "stream",
     "text": [
      "0.9909889614778103\n",
      "0.9911515251738472\n",
      "0.9842567045488462\n",
      "0.9876464875003825\n"
     ]
    }
   ],
   "source": [
    "print(Accuracy_Score)\n",
    "print(Precision_Score)\n",
    "print(Recall_Score)\n",
    "print(F1_Score)"
   ]
  },
  {
   "cell_type": "markdown",
   "id": "daf5e618",
   "metadata": {},
   "source": [
    "# Linear kernel, c=1.0"
   ]
  },
  {
   "cell_type": "code",
   "execution_count": 120,
   "id": "a3ddf791",
   "metadata": {},
   "outputs": [
    {
     "name": "stdout",
     "output_type": "stream",
     "text": [
      "              precision    recall  f1-score   support\n",
      "\n",
      "           0       0.99      1.00      0.99      3363\n",
      "           1       0.99      0.97      0.98      1076\n",
      "\n",
      "    accuracy                           0.99      4439\n",
      "   macro avg       0.99      0.98      0.99      4439\n",
      "weighted avg       0.99      0.99      0.99      4439\n",
      "\n"
     ]
    },
    {
     "data": {
      "text/plain": [
       "<sklearn.metrics._plot.confusion_matrix.ConfusionMatrixDisplay at 0x1d4d6023208>"
      ]
     },
     "execution_count": 120,
     "metadata": {},
     "output_type": "execute_result"
    },
    {
     "data": {
      "image/png": "[encoded data removed]",
      "text/plain": [
       "<Figure size 432x288 with 2 Axes>"
      ]
     },
     "metadata": {
      "needs_background": "light"
     },
     "output_type": "display_data"
    }
   ],
   "source": [
    "linear_svc=SVC(kernel='linear', C=1.0) \n",
    "linear_svc = linear_svc.fit(X_train, Y_train)\n",
    "y_pred = linear_svc.predict(X_test)\n",
    "print(metrics.classification_report(Y_test, y_pred))\n",
    "metrics.plot_confusion_matrix(linear_svc, X_test, Y_test)"
   ]
  },
  {
   "cell_type": "code",
   "execution_count": 121,
   "id": "67ec35ba",
   "metadata": {},
   "outputs": [
    {
     "name": "stdout",
     "output_type": "stream",
     "text": [
      "0.9905384095517008\n",
      "0.9905294313846947\n",
      "0.9836433437572887\n",
      "0.9870288118754018\n"
     ]
    }
   ],
   "source": [
    "Accuracy_Score = accuracy_score(Y_test, y_pred)\n",
    "Precision_Score = precision_score(Y_test, y_pred,  average=\"macro\")\n",
    "Recall_Score = recall_score(Y_test, y_pred,  average=\"macro\")\n",
    "F1_Score = metrics.f1_score(Y_test, y_pred,  average=\"macro\")\n",
    "\n",
    "print(Accuracy_Score)\n",
    "print(Precision_Score)\n",
    "print(Recall_Score)\n",
    "print(F1_Score)"
   ]
  },
  {
   "cell_type": "markdown",
   "id": "65e6259d",
   "metadata": {},
   "source": [
    "# Linear kernel, c=10"
   ]
  },
  {
   "cell_type": "code",
   "execution_count": 122,
   "id": "b448e1c7",
   "metadata": {},
   "outputs": [
    {
     "name": "stdout",
     "output_type": "stream",
     "text": [
      "              precision    recall  f1-score   support\n",
      "\n",
      "           0       0.99      1.00      0.99      3363\n",
      "           1       0.99      0.97      0.98      1076\n",
      "\n",
      "    accuracy                           0.99      4439\n",
      "   macro avg       0.99      0.98      0.99      4439\n",
      "weighted avg       0.99      0.99      0.99      4439\n",
      "\n"
     ]
    },
    {
     "data": {
      "text/plain": [
       "<sklearn.metrics._plot.confusion_matrix.ConfusionMatrixDisplay at 0x1d4d914d9c8>"
      ]
     },
     "execution_count": 122,
     "metadata": {},
     "output_type": "execute_result"
    },
    {
     "data": {
      "image/png": "[encoded data removed]",
      "text/plain": [
       "<Figure size 432x288 with 2 Axes>"
      ]
     },
     "metadata": {
      "needs_background": "light"
     },
     "output_type": "display_data"
    }
   ],
   "source": [
    "linear_svc1=SVC(kernel='linear', C=10.0) \n",
    "linear_svc1 = linear_svc1.fit(X_train, Y_train)\n",
    "y_pred1 = linear_svc.predict(X_test)\n",
    "print(metrics.classification_report(Y_test, y_pred1))\n",
    "metrics.plot_confusion_matrix(linear_svc1, X_test, Y_test)"
   ]
  },
  {
   "cell_type": "code",
   "execution_count": 123,
   "id": "7b98880c",
   "metadata": {},
   "outputs": [
    {
     "name": "stdout",
     "output_type": "stream",
     "text": [
      "0.9905384095517008\n",
      "0.9905294313846947\n",
      "0.9836433437572887\n",
      "0.9870288118754018\n"
     ]
    }
   ],
   "source": [
    "Accuracy_Score = accuracy_score(Y_test, y_pred1)\n",
    "Precision_Score = precision_score(Y_test, y_pred1,  average=\"macro\")\n",
    "Recall_Score = recall_score(Y_test, y_pred1,  average=\"macro\")\n",
    "F1_Score = metrics.f1_score(Y_test, y_pred1,  average=\"macro\")\n",
    "\n",
    "print(Accuracy_Score)\n",
    "print(Precision_Score)\n",
    "print(Recall_Score)\n",
    "print(F1_Score)"
   ]
  },
  {
   "cell_type": "markdown",
   "id": "4a07ccfe",
   "metadata": {},
   "source": [
    "# sigmoid kernel, c=1.0"
   ]
  },
  {
   "cell_type": "code",
   "execution_count": 124,
   "id": "d8fe953a",
   "metadata": {},
   "outputs": [
    {
     "name": "stdout",
     "output_type": "stream",
     "text": [
      "              precision    recall  f1-score   support\n",
      "\n",
      "           0       0.94      0.93      0.94      3363\n",
      "           1       0.80      0.82      0.81      1076\n",
      "\n",
      "    accuracy                           0.91      4439\n",
      "   macro avg       0.87      0.88      0.87      4439\n",
      "weighted avg       0.91      0.91      0.91      4439\n",
      "\n"
     ]
    },
    {
     "data": {
      "text/plain": [
       "<sklearn.metrics._plot.confusion_matrix.ConfusionMatrixDisplay at 0x1d4d91a94c8>"
      ]
     },
     "execution_count": 124,
     "metadata": {},
     "output_type": "execute_result"
    },
    {
     "data": {
      "image/png": "[encoded data removed]",
      "text/plain": [
       "<Figure size 432x288 with 2 Axes>"
      ]
     },
     "metadata": {
      "needs_background": "light"
     },
     "output_type": "display_data"
    }
   ],
   "source": [
    "sigmoid_svc=SVC(kernel='sigmoid', C=1.0) \n",
    "sigmoid_svc = sigmoid_svc.fit(X_train, Y_train)\n",
    "y_pred = sigmoid_svc.predict(X_test)\n",
    "print(metrics.classification_report(Y_test, y_pred))\n",
    "metrics.plot_confusion_matrix(sigmoid_svc, X_test, Y_test)"
   ]
  },
  {
   "cell_type": "code",
   "execution_count": 125,
   "id": "a9e3e4d4",
   "metadata": {
    "scrolled": true
   },
   "outputs": [
    {
     "name": "stdout",
     "output_type": "stream",
     "text": [
      "0.9062851993692274\n",
      "0.8696938486251535\n",
      "0.8784250928815328\n",
      "0.8739223525813287\n"
     ]
    }
   ],
   "source": [
    "Accuracy_Score = accuracy_score(Y_test, y_pred)\n",
    "Precision_Score = precision_score(Y_test, y_pred,  average=\"macro\")\n",
    "Recall_Score = recall_score(Y_test, y_pred,  average=\"macro\")\n",
    "F1_Score = metrics.f1_score(Y_test, y_pred,  average=\"macro\")\n",
    "\n",
    "print(Accuracy_Score)\n",
    "print(Precision_Score)\n",
    "print(Recall_Score)\n",
    "print(F1_Score)"
   ]
  },
  {
   "cell_type": "markdown",
   "id": "896dca85",
   "metadata": {},
   "source": [
    "# sigmoid kernel, c=10"
   ]
  },
  {
   "cell_type": "code",
   "execution_count": 126,
   "id": "4cd4bfee",
   "metadata": {},
   "outputs": [
    {
     "name": "stdout",
     "output_type": "stream",
     "text": [
      "              precision    recall  f1-score   support\n",
      "\n",
      "           0       0.99      1.00      0.99      3363\n",
      "           1       0.99      0.97      0.98      1076\n",
      "\n",
      "    accuracy                           0.99      4439\n",
      "   macro avg       0.99      0.98      0.99      4439\n",
      "weighted avg       0.99      0.99      0.99      4439\n",
      "\n"
     ]
    },
    {
     "data": {
      "text/plain": [
       "<sklearn.metrics._plot.confusion_matrix.ConfusionMatrixDisplay at 0x1d4dd204a48>"
      ]
     },
     "execution_count": 126,
     "metadata": {},
     "output_type": "execute_result"
    },
    {
     "data": {
      "image/png": "[encoded data removed]",
      "text/plain": [
       "<Figure size 432x288 with 2 Axes>"
      ]
     },
     "metadata": {
      "needs_background": "light"
     },
     "output_type": "display_data"
    }
   ],
   "source": [
    "sigmoid_svc=SVC(kernel='sigmoid', C=10.0) \n",
    "sigmoid_svc = sigmoid_svc.fit(X_train, Y_train)\n",
    "y_pred = linear_svc.predict(X_test)\n",
    "print(metrics.classification_report(Y_test, y_pred))\n",
    "metrics.plot_confusion_matrix(sigmoid_svc, X_test, Y_test)"
   ]
  },
  {
   "cell_type": "code",
   "execution_count": 127,
   "id": "c29366a1",
   "metadata": {},
   "outputs": [
    {
     "name": "stdout",
     "output_type": "stream",
     "text": [
      "0.9905384095517008\n",
      "0.9905294313846947\n",
      "0.9836433437572887\n",
      "0.9870288118754018\n"
     ]
    }
   ],
   "source": [
    "Accuracy_Score = accuracy_score(Y_test, y_pred)\n",
    "Precision_Score = precision_score(Y_test, y_pred,  average=\"macro\")\n",
    "Recall_Score = recall_score(Y_test, y_pred,  average=\"macro\")\n",
    "F1_Score = metrics.f1_score(Y_test, y_pred,  average=\"macro\")\n",
    "\n",
    "print(Accuracy_Score)\n",
    "print(Precision_Score)\n",
    "print(Recall_Score)\n",
    "print(F1_Score)"
   ]
  },
  {
   "cell_type": "markdown",
   "id": "9026f0d4",
   "metadata": {},
   "source": [
    "# poli kernel, c=1.0"
   ]
  },
  {
   "cell_type": "code",
   "execution_count": 128,
   "id": "6c1d8c10",
   "metadata": {},
   "outputs": [
    {
     "name": "stdout",
     "output_type": "stream",
     "text": [
      "              precision    recall  f1-score   support\n",
      "\n",
      "           0       0.91      0.99      0.95      3363\n",
      "           1       0.95      0.69      0.80      1076\n",
      "\n",
      "    accuracy                           0.92      4439\n",
      "   macro avg       0.93      0.84      0.87      4439\n",
      "weighted avg       0.92      0.92      0.91      4439\n",
      "\n"
     ]
    },
    {
     "data": {
      "text/plain": [
       "<sklearn.metrics._plot.confusion_matrix.ConfusionMatrixDisplay at 0x1d4dd275488>"
      ]
     },
     "execution_count": 128,
     "metadata": {},
     "output_type": "execute_result"
    },
    {
     "data": {
      "image/png": "[encoded data removed]",
      "text/plain": [
       "<Figure size 432x288 with 2 Axes>"
      ]
     },
     "metadata": {
      "needs_background": "light"
     },
     "output_type": "display_data"
    }
   ],
   "source": [
    "poly_svc=SVC(kernel='poly', C=1.0) \n",
    "poly_svc = poly_svc.fit(X_train, Y_train)\n",
    "y_pred = poly_svc.predict(X_test)\n",
    "print(metrics.classification_report(Y_test, y_pred))\n",
    "metrics.plot_confusion_matrix(poly_svc, X_test, Y_test)"
   ]
  },
  {
   "cell_type": "code",
   "execution_count": 129,
   "id": "dbf12819",
   "metadata": {},
   "outputs": [
    {
     "name": "stdout",
     "output_type": "stream",
     "text": [
      "0.9166478936697454\n",
      "0.9293863526022392\n",
      "0.8407072040254375\n",
      "0.8742761672874154\n"
     ]
    }
   ],
   "source": [
    "Accuracy_Score = accuracy_score(Y_test, y_pred)\n",
    "Precision_Score = precision_score(Y_test, y_pred,  average=\"macro\")\n",
    "Recall_Score = recall_score(Y_test, y_pred,  average=\"macro\")\n",
    "F1_Score = metrics.f1_score(Y_test, y_pred,  average=\"macro\")\n",
    "\n",
    "print(Accuracy_Score)\n",
    "print(Precision_Score)\n",
    "print(Recall_Score)\n",
    "print(F1_Score)"
   ]
  },
  {
   "cell_type": "markdown",
   "id": "c859b688",
   "metadata": {},
   "source": [
    "# poli kernel, c=10"
   ]
  },
  {
   "cell_type": "code",
   "execution_count": 130,
   "id": "0adeb126",
   "metadata": {},
   "outputs": [
    {
     "name": "stdout",
     "output_type": "stream",
     "text": [
      "              precision    recall  f1-score   support\n",
      "\n",
      "           0       0.99      0.99      0.99      3363\n",
      "           1       0.98      0.96      0.97      1076\n",
      "\n",
      "    accuracy                           0.99      4439\n",
      "   macro avg       0.98      0.98      0.98      4439\n",
      "weighted avg       0.99      0.99      0.99      4439\n",
      "\n"
     ]
    },
    {
     "data": {
      "text/plain": [
       "<sklearn.metrics._plot.confusion_matrix.ConfusionMatrixDisplay at 0x1d4dd3846c8>"
      ]
     },
     "execution_count": 130,
     "metadata": {},
     "output_type": "execute_result"
    },
    {
     "data": {
      "image/png": "[encoded data removed]",
      "text/plain": [
       "<Figure size 432x288 with 2 Axes>"
      ]
     },
     "metadata": {
      "needs_background": "light"
     },
     "output_type": "display_data"
    }
   ],
   "source": [
    "poly_svc=SVC(kernel='poly', C=10.0) \n",
    "poly_svc = poly_svc.fit(X_train, Y_train)\n",
    "y_pred = poly_svc.predict(X_test)\n",
    "print(metrics.classification_report(Y_test, y_pred))\n",
    "metrics.plot_confusion_matrix(poly_svc, X_test, Y_test)"
   ]
  },
  {
   "cell_type": "code",
   "execution_count": 131,
   "id": "47aafae6",
   "metadata": {},
   "outputs": [
    {
     "name": "stdout",
     "output_type": "stream",
     "text": [
      "0.9864834422167155\n",
      "0.9843080899656649\n",
      "0.9787551111096372\n",
      "0.9814934945818756\n"
     ]
    }
   ],
   "source": [
    "Accuracy_Score = accuracy_score(Y_test, y_pred)\n",
    "Precision_Score = precision_score(Y_test, y_pred,  average=\"macro\")\n",
    "Recall_Score = recall_score(Y_test, y_pred,  average=\"macro\")\n",
    "F1_Score = metrics.f1_score(Y_test, y_pred,  average=\"macro\")\n",
    "\n",
    "print(Accuracy_Score)\n",
    "print(Precision_Score)\n",
    "print(Recall_Score)\n",
    "print(F1_Score)"
   ]
  },
  {
   "cell_type": "code",
   "execution_count": null,
   "id": "e8386031",
   "metadata": {},
   "outputs": [],
   "source": []
  }
 ],
 "metadata": {
  "kernelspec": {
   "display_name": "Python 3",
   "language": "python",
   "name": "python3"
  },
  "language_info": {
   "codemirror_mode": {
    "name": "ipython",
    "version": 3
   },
   "file_extension": ".py",
   "mimetype": "text/x-python",
   "name": "python",
   "nbconvert_exporter": "python",
   "pygments_lexer": "ipython3",
   "version": "3.7.2"
  }
 },
 "nbformat": 4,
 "nbformat_minor": 5
}
